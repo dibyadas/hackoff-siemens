{
 "cells": [
  {
   "cell_type": "code",
   "execution_count": null,
   "metadata": {
    "id": "10QZS7mwhGpU"
   },
   "outputs": [],
   "source": [
    "!wget http://snap.stanford.edu/data/amazon/productGraph/categoryFiles/reviews_Cell_Phones_and_Accessories_5.json.gz"
   ]
  },
  {
   "cell_type": "code",
   "execution_count": null,
   "metadata": {
    "id": "_MaN_5oghO95"
   },
   "outputs": [],
   "source": [
    "!python3 -m nltk.downloader stopwords\n",
    "!python3 -m nltk.downloader universal_tagset\n",
    "!python3 -m spacy download en # download the english model"
   ]
  },
  {
   "cell_type": "code",
   "execution_count": null,
   "metadata": {
    "id": "8MgQFv9Khaof"
   },
   "outputs": [],
   "source": [
    "!pip install git+https://github.com/boudinfl/pke.git"
   ]
  },
  {
   "cell_type": "code",
   "execution_count": null,
   "metadata": {
    "id": "sKwrTsSlhj1t"
   },
   "outputs": [],
   "source": [
    "!pip install flair"
   ]
  },
  {
   "cell_type": "code",
   "execution_count": null,
   "metadata": {
    "id": "0c-m2nchm2YX"
   },
   "outputs": [],
   "source": [
    "pip install git+https://github.com/LIAAD/yake"
   ]
  },
  {
   "cell_type": "code",
   "execution_count": 38,
   "metadata": {
    "id": "esR7hzi_hpO9"
   },
   "outputs": [],
   "source": [
    "import pandas as pd\n",
    "import gzip\n",
    "\n",
    "def parse(path):\n",
    "  g = gzip.open(path, 'rb')\n",
    "  for l in g:\n",
    "    yield eval(l)\n",
    "\n",
    "def getDF(path):\n",
    "  i = 0\n",
    "  df = {}\n",
    "  for d in parse(path):\n",
    "    df[i] = d\n",
    "    i += 1\n",
    "  return pd.DataFrame.from_dict(df, orient='index')\n",
    "\n",
    "df = getDF('reviews_Cell_Phones_and_Accessories_5.json.gz')"
   ]
  },
  {
   "cell_type": "code",
   "execution_count": 92,
   "metadata": {
    "colab": {
     "base_uri": "https://localhost:8080/",
     "height": 230
    },
    "id": "KKbDw2Z7iJjJ",
    "outputId": "2ba0cce9-410d-406d-f792-cf29b5846038"
   },
   "outputs": [
    {
     "data": {
      "text/html": [
       "<div>\n",
       "<style scoped>\n",
       "    .dataframe tbody tr th:only-of-type {\n",
       "        vertical-align: middle;\n",
       "    }\n",
       "\n",
       "    .dataframe tbody tr th {\n",
       "        vertical-align: top;\n",
       "    }\n",
       "\n",
       "    .dataframe thead th {\n",
       "        text-align: right;\n",
       "    }\n",
       "</style>\n",
       "<table border=\"1\" class=\"dataframe\">\n",
       "  <thead>\n",
       "    <tr style=\"text-align: right;\">\n",
       "      <th></th>\n",
       "      <th>reviewerID</th>\n",
       "      <th>asin</th>\n",
       "      <th>reviewerName</th>\n",
       "      <th>helpful</th>\n",
       "      <th>reviewText</th>\n",
       "      <th>overall</th>\n",
       "      <th>summary</th>\n",
       "      <th>unixReviewTime</th>\n",
       "      <th>reviewTime</th>\n",
       "    </tr>\n",
       "  </thead>\n",
       "  <tbody>\n",
       "    <tr>\n",
       "      <th>0</th>\n",
       "      <td>A30TL5EWN6DFXT</td>\n",
       "      <td>120401325X</td>\n",
       "      <td>christina</td>\n",
       "      <td>[0, 0]</td>\n",
       "      <td>They look good and stick good! I just don't li...</td>\n",
       "      <td>4.0</td>\n",
       "      <td>Looks Good</td>\n",
       "      <td>1400630400</td>\n",
       "      <td>05 21, 2014</td>\n",
       "    </tr>\n",
       "    <tr>\n",
       "      <th>1</th>\n",
       "      <td>ASY55RVNIL0UD</td>\n",
       "      <td>120401325X</td>\n",
       "      <td>emily l.</td>\n",
       "      <td>[0, 0]</td>\n",
       "      <td>These stickers work like the review says they ...</td>\n",
       "      <td>5.0</td>\n",
       "      <td>Really great product.</td>\n",
       "      <td>1389657600</td>\n",
       "      <td>01 14, 2014</td>\n",
       "    </tr>\n",
       "    <tr>\n",
       "      <th>2</th>\n",
       "      <td>A2TMXE2AFO7ONB</td>\n",
       "      <td>120401325X</td>\n",
       "      <td>Erica</td>\n",
       "      <td>[0, 0]</td>\n",
       "      <td>These are awesome and make my phone look so st...</td>\n",
       "      <td>5.0</td>\n",
       "      <td>LOVE LOVE LOVE</td>\n",
       "      <td>1403740800</td>\n",
       "      <td>06 26, 2014</td>\n",
       "    </tr>\n",
       "    <tr>\n",
       "      <th>3</th>\n",
       "      <td>AWJ0WZQYMYFQ4</td>\n",
       "      <td>120401325X</td>\n",
       "      <td>JM</td>\n",
       "      <td>[4, 4]</td>\n",
       "      <td>Item arrived in great time and was in perfect ...</td>\n",
       "      <td>4.0</td>\n",
       "      <td>Cute!</td>\n",
       "      <td>1382313600</td>\n",
       "      <td>10 21, 2013</td>\n",
       "    </tr>\n",
       "    <tr>\n",
       "      <th>4</th>\n",
       "      <td>ATX7CZYFXI1KW</td>\n",
       "      <td>120401325X</td>\n",
       "      <td>patrice m rogoza</td>\n",
       "      <td>[2, 3]</td>\n",
       "      <td>awesome! stays on, and looks great. can be use...</td>\n",
       "      <td>5.0</td>\n",
       "      <td>leopard home button sticker for iphone 4s</td>\n",
       "      <td>1359849600</td>\n",
       "      <td>02 3, 2013</td>\n",
       "    </tr>\n",
       "  </tbody>\n",
       "</table>\n",
       "</div>"
      ],
      "text/plain": [
       "       reviewerID        asin  ... unixReviewTime   reviewTime\n",
       "0  A30TL5EWN6DFXT  120401325X  ...     1400630400  05 21, 2014\n",
       "1   ASY55RVNIL0UD  120401325X  ...     1389657600  01 14, 2014\n",
       "2  A2TMXE2AFO7ONB  120401325X  ...     1403740800  06 26, 2014\n",
       "3   AWJ0WZQYMYFQ4  120401325X  ...     1382313600  10 21, 2013\n",
       "4   ATX7CZYFXI1KW  120401325X  ...     1359849600   02 3, 2013\n",
       "\n",
       "[5 rows x 9 columns]"
      ]
     },
     "execution_count": 92,
     "metadata": {
      "tags": []
     },
     "output_type": "execute_result"
    }
   ],
   "source": [
    "df.head()"
   ]
  },
  {
   "cell_type": "code",
   "execution_count": 93,
   "metadata": {
    "colab": {
     "base_uri": "https://localhost:8080/",
     "height": 35
    },
    "id": "EAF7AMivihko",
    "outputId": "535d9e87-4952-4dbf-b6d0-db7b409ec6e7"
   },
   "outputs": [
    {
     "data": {
      "application/vnd.google.colaboratory.intrinsic+json": {
       "type": "string"
      },
      "text/plain": [
       "'B0009T8310'"
      ]
     },
     "execution_count": 93,
     "metadata": {
      "tags": []
     },
     "output_type": "execute_result"
    }
   ],
   "source": [
    "df['asin'].unique()[99]"
   ]
  },
  {
   "cell_type": "code",
   "execution_count": 94,
   "metadata": {
    "id": "zLCUW0hukE8w"
   },
   "outputs": [],
   "source": [
    "myString = \". \".join(df[df['asin'] == \"B0009T8310\"]['reviewText'])"
   ]
  },
  {
   "cell_type": "code",
   "execution_count": 95,
   "metadata": {
    "colab": {
     "base_uri": "https://localhost:8080/",
     "height": 136
    },
    "id": "PzN835IfkpwS",
    "outputId": "e4004ed9-dd59-4edd-83b7-59f7f792a68c"
   },
   "outputs": [
    {
     "data": {
      "application/vnd.google.colaboratory.intrinsic+json": {
       "type": "string"
      },
      "text/plain": [
       "\"Im very pleased with this little charger. The blue light indicates whether or not it's on, and my phone charges very fast. Five minutes and it's three quarters charged from bring dead! Would definitely recommend this to someone else.. needed a power source with a mini usb. This is exactly what I needed. It was also delivered very fast.  I use this to power a RCA to HDMI converter for a Roku 3.. Yea, basically. It's a phone charger for the Motorola Razor, and guess what? It works for it. Also works for a few other phones.. The charger did come in and does charge my mp3 players like it's supposed to. The shipping was longer than what I paid for. However I thought the charger was a disconnected charger to where the cable could come off the base and connect to a computer so I'll have to order another charger that does what I need it to do.. It charged my phone.  Actually, I bought six of these so it would be more correct to say that &#34;they&#34; charged my phone.Why would I get six?  One for the bedroom, one for the kitchen, one for the living room, one for the home office, one for the car, and one for work.  My phone is full of electricity, I'll tell you that.. I was incredibly frustrated to have purchased this product to find out that it does not work to charge up a phone that I specifically bought it for. It was a Christmas present for someone that had relied on a car charger for years. She'd plug it into her car outlet and let it sit in her car until it was charged. I assumed I just solved her problem. Unfortunately, her Motorola Razr is such a dinosaur, I'd have to special order it from the actual manufacturer.Here's the surprise part......I just moved and finally found my Kindle. It's the Kindle touch, nothing special (not the fire or paperwhite). It's simply a black and white touch screen. Unfortunately, I couldn't find the charger, no matter where I looked! Even so, the charger that came with the Kindle would take about 2-3 hours to fully charge, when it's nearly dead. So,I decided to try this on my Kindle to see if it would fit. To my surprise, it fits just like a glove! Not only that, but it also charged my Kindle in under an hour. It was so dead, it refused to turn on until I plugged it in to a charger. Still, it was fully charged within an hour. Go figure!. Tried to find a new one for my girls dad's house, they just started using my old razor phone. Works good.\""
      ]
     },
     "execution_count": 95,
     "metadata": {
      "tags": []
     },
     "output_type": "execute_result"
    }
   ],
   "source": [
    "myString"
   ]
  },
  {
   "cell_type": "code",
   "execution_count": 96,
   "metadata": {
    "id": "QF3PJsdezFJt"
   },
   "outputs": [],
   "source": [
    "import pke\n",
    "\n",
    "# define the valid Part-of-Speeches to occur in the graph\n",
    "pos = {'NOUN', 'PROPN', 'ADJ'}\n",
    "\n",
    "# define the grammar for selecting the keyphrase candidates\n",
    "grammar = \"NP: {<ADJ>*<NOUN|PROPN>+}\"\n",
    "\n",
    "# 1. create a PositionRank extractor.\n",
    "extractor = pke.unsupervised.PositionRank()\n",
    "\n",
    "# 2. load the content of the document.\n",
    "extractor.load_document(input=myString,\n",
    "                        language='en',\n",
    "                        normalization=None)\n",
    "\n",
    "# 3. select the noun phrases up to 3 words as keyphrase candidates.\n",
    "extractor.candidate_selection(grammar=grammar,\n",
    "                              maximum_word_number=3)\n",
    "\n",
    "# 4. weight the candidates using the sum of their word's scores that are\n",
    "#    computed using random walk biaised with the position of the words\n",
    "#    in the document. In the graph, nodes are words (nouns and\n",
    "#    adjectives only) that are connected if they occur in a window of\n",
    "#    10 words.\n",
    "extractor.candidate_weighting(window=10,\n",
    "                              pos=pos)\n",
    "\n",
    "# 5. get the 10-highest scored candidates as keyphrases\n",
    "keyphrases = extractor.get_n_best(n=20)"
   ]
  },
  {
   "cell_type": "code",
   "execution_count": 102,
   "metadata": {
    "colab": {
     "base_uri": "https://localhost:8080/"
    },
    "id": "c2iWS2wZzFM_",
    "outputId": "8e7763fd-b164-4af2-f571-86d92df06eb4"
   },
   "outputs": [
    {
     "data": {
      "text/plain": [
       "[('little charger', 0.17963258659813622),\n",
       " ('phone charger', 0.16491456984372316),\n",
       " ('car charger', 0.15004268234792303),\n",
       " ('disconnected charger', 0.13687296123644305),\n",
       " ('charger', 0.1234681352040811),\n",
       " ('blue light', 0.10199684671092252),\n",
       " ('old razor phone', 0.06984128544535678),\n",
       " ('phone charges', 0.052826227762620595),\n",
       " ('phone', 0.041446434639642045),\n",
       " ('few other phones', 0.03770000962800429),\n",
       " ('motorola razor', 0.03427041603649379),\n",
       " ('car outlet', 0.03332629268987969),\n",
       " ('kindle touch', 0.030705002928885942),\n",
       " ('power source', 0.028569618608326568),\n",
       " ('mini usb', 0.028315003305972915),\n",
       " ('car', 0.02657454714384193),\n",
       " ('white touch screen', 0.02483761541993195),\n",
       " ('mp3 players', 0.023370517263208438),\n",
       " ('motorola razr', 0.021324748343225272),\n",
       " ('hdmi converter', 0.019626787633459604)]"
      ]
     },
     "execution_count": 102,
     "metadata": {
      "tags": []
     },
     "output_type": "execute_result"
    }
   ],
   "source": [
    "keyphrases"
   ]
  },
  {
   "cell_type": "code",
   "execution_count": 106,
   "metadata": {
    "id": "9cdZFrX0zFPl"
   },
   "outputs": [],
   "source": [
    "kw_list = []\n",
    "for kw in keyphrases:\n",
    "    kw_list.append(kw)"
   ]
  },
  {
   "cell_type": "code",
   "execution_count": null,
   "metadata": {
    "id": "LlsrMoVDuoS3"
   },
   "outputs": [],
   "source": [
    "from flair.embeddings import WordEmbeddings, FlairEmbeddings, StackedEmbeddings\n",
    "from flair.data import Sentence\n",
    "\n",
    "# create a StackedEmbedding object that combines glove and forward/backward flair embeddings\n",
    "stacked_embeddings = StackedEmbeddings([\n",
    "                                        WordEmbeddings('glove'),\n",
    "                                        FlairEmbeddings('news-forward'),\n",
    "                                        FlairEmbeddings('news-backward'),\n",
    "                                       ])"
   ]
  },
  {
   "cell_type": "code",
   "execution_count": 107,
   "metadata": {
    "colab": {
     "base_uri": "https://localhost:8080/"
    },
    "id": "7HqS7iQvoX3d",
    "outputId": "3c6a2d28-ea01-4da3-ac82-74aba5ab6b17"
   },
   "outputs": [
    {
     "name": "stdout",
     "output_type": "stream",
     "text": [
      "[nltk_data] Downloading package punkt to /root/nltk_data...\n",
      "[nltk_data]   Package punkt is already up-to-date!\n"
     ]
    },
    {
     "data": {
      "text/plain": [
       "True"
      ]
     },
     "execution_count": 107,
     "metadata": {
      "tags": []
     },
     "output_type": "execute_result"
    }
   ],
   "source": [
    "import nltk\n",
    "nltk.download('punkt')"
   ]
  },
  {
   "cell_type": "code",
   "execution_count": 108,
   "metadata": {
    "id": "NCzfu8TZqQu8"
   },
   "outputs": [],
   "source": [
    "kw_list = sorted(kw_list, key=lambda x: x[1])"
   ]
  },
  {
   "cell_type": "code",
   "execution_count": 109,
   "metadata": {
    "id": "09SoikiOrdeL"
   },
   "outputs": [],
   "source": [
    "tag_sent_dict = {}\n",
    "sent_list = nltk.sent_tokenize(myString)"
   ]
  },
  {
   "cell_type": "code",
   "execution_count": 110,
   "metadata": {
    "id": "57f0U_PSslfV"
   },
   "outputs": [],
   "source": [
    "for tag_score in kw_list:\n",
    "  tag = tag_score[0]\n",
    "  tag_sent_dict[tag] = []\n",
    "  for sent in sent_list:\n",
    "    if tag in sent:\n",
    "      tag_sent_dict[tag].append(sent)"
   ]
  },
  {
   "cell_type": "code",
   "execution_count": 111,
   "metadata": {
    "id": "gy6A_Q9kjsrD"
   },
   "outputs": [],
   "source": [
    "def find_mean_vector(vect_list):\n",
    "  vect = torch.zeros(4196)\n",
    "  c = 1\n",
    "  for i in vect_list:\n",
    "        try:\n",
    "            vect += i\n",
    "            c += 1\n",
    "        except KeyError:\n",
    "            pass\n",
    "  return (vect/c).numpy()"
   ]
  },
  {
   "cell_type": "code",
   "execution_count": 112,
   "metadata": {
    "id": "colfYrxe0kEv"
   },
   "outputs": [],
   "source": [
    "import torch\n",
    "def get_mean_emb(phrase, we):\n",
    "    ws = phrase.split(\" \")\n",
    "    vect = torch.zeros(4196)\n",
    "    c = 1\n",
    "    for i in ws:\n",
    "        try:\n",
    "            vect += we[i]\n",
    "            c += 1\n",
    "        except KeyError:\n",
    "            pass\n",
    "    return (vect).numpy()"
   ]
  },
  {
   "cell_type": "code",
   "execution_count": 113,
   "metadata": {
    "id": "tk0Fzu7skoeE"
   },
   "outputs": [],
   "source": [
    "import torch"
   ]
  },
  {
   "cell_type": "code",
   "execution_count": 114,
   "metadata": {
    "id": "pVXZt5ssl3Pv"
   },
   "outputs": [],
   "source": [
    "tag_we_dict = {}"
   ]
  },
  {
   "cell_type": "code",
   "execution_count": 115,
   "metadata": {
    "id": "ndO9F7ENjskr"
   },
   "outputs": [],
   "source": [
    "for tag, sentences in tag_sent_dict.items():\n",
    "  vect_list = []\n",
    "  for s in sentences:\n",
    "    sentence = Sentence(s)\n",
    "    stacked_embeddings.embed(sentence)\n",
    "    we = {}\n",
    "    for token in sentence:\n",
    "      we[token.text] = token.embedding\n",
    "    vect_list.append(get_mean_emb(tag, we))\n",
    "  tag_we_dict[tag] = find_mean_vector(vect_list)"
   ]
  },
  {
   "cell_type": "code",
   "execution_count": 116,
   "metadata": {
    "colab": {
     "base_uri": "https://localhost:8080/"
    },
    "id": "gVbKTnUsjsnr",
    "outputId": "2bd40d21-9745-4ba0-f477-d3ca6f675e67"
   },
   "outputs": [
    {
     "data": {
      "text/plain": [
       "{'blue light': array([ 0.04038555,  0.63877   , -0.0832125 , ..., -0.00711576,\n",
       "        -0.00816192, -0.00263372], dtype=float32),\n",
       " 'car': array([-0.1263    , -0.4037025 ,  0.23366249, ...,  0.0041707 ,\n",
       "        -0.03867931, -0.00891347], dtype=float32),\n",
       " 'car charger': array([-0.53000504, -0.43840998,  0.36054   , ...,  0.00154909,\n",
       "        -0.04838721, -0.01475241], dtype=float32),\n",
       " 'car outlet': array([ 0.175955  , -0.510265  ,  0.1903235 , ...,  0.00545255,\n",
       "        -0.0397969 , -0.00284723], dtype=float32),\n",
       " 'charger': array([-7.9254228e-01, -3.0093336e-01,  3.6402667e-01, ...,\n",
       "        -1.8343343e-04, -5.9669878e-02, -1.0834954e-02], dtype=float32),\n",
       " 'disconnected charger': array([-0.48312402, -0.25509   ,  0.55013   , ..., -0.00089348,\n",
       "        -0.02576532, -0.00536013], dtype=float32),\n",
       " 'few other phones': array([-0.287005  ,  0.503855  ,  0.062452  , ..., -0.00521679,\n",
       "        -0.04545446,  0.00114028], dtype=float32),\n",
       " 'hdmi converter': array([0., 0., 0., ..., 0., 0., 0.], dtype=float32),\n",
       " 'kindle touch': array([0., 0., 0., ..., 0., 0., 0.], dtype=float32),\n",
       " 'little charger': array([-0.540835  , -0.013675  ,  0.44062   , ..., -0.00179585,\n",
       "        -0.02649689, -0.00752847], dtype=float32),\n",
       " 'mini usb': array([-0.750645  ,  0.255667  ,  0.227514  , ..., -0.0043335 ,\n",
       "        -0.00965731, -0.0640264 ], dtype=float32),\n",
       " 'motorola razor': array([0., 0., 0., ..., 0., 0., 0.], dtype=float32),\n",
       " 'motorola razr': array([0., 0., 0., ..., 0., 0., 0.], dtype=float32),\n",
       " 'mp3 players': array([ 0.01730999,  0.10161   ,  0.76213   , ..., -0.01654431,\n",
       "        -0.01058663,  0.00452699], dtype=float32),\n",
       " 'old razor phone': array([-0.266563  , -0.38559002,  0.36793   , ..., -0.01617227,\n",
       "        -0.04653949, -0.00342054], dtype=float32),\n",
       " 'phone': array([ 0.021176  , -0.40512002,  0.34822   , ..., -0.02641271,\n",
       "        -0.02115759,  0.00054712], dtype=float32),\n",
       " 'phone charger': array([-0.429923  , -0.47311503,  0.46592999, ..., -0.02310148,\n",
       "        -0.06176051, -0.0052102 ], dtype=float32),\n",
       " 'phone charges': array([ 0.197137  , -0.44402003,  0.17758   , ..., -0.02118622,\n",
       "        -0.02008069, -0.00409201], dtype=float32),\n",
       " 'power source': array([-2.9078150e-01,  2.6440997e-02,  9.0977502e-01, ...,\n",
       "        -3.1798289e-03,  1.7000536e-02,  7.9884892e-04], dtype=float32),\n",
       " 'white touch screen': array([-0.36148   ,  0.289085  ,  0.72808   , ..., -0.01122243,\n",
       "        -0.11307025,  0.00376615], dtype=float32)}"
      ]
     },
     "execution_count": 116,
     "metadata": {
      "tags": []
     },
     "output_type": "execute_result"
    }
   ],
   "source": [
    "tag_we_dict"
   ]
  },
  {
   "cell_type": "code",
   "execution_count": 117,
   "metadata": {
    "id": "GIuQ2Cm76M7_"
   },
   "outputs": [],
   "source": [
    "from sklearn.cluster import KMeans\n",
    "import numpy as np\n",
    "from sklearn.cluster import DBSCAN"
   ]
  },
  {
   "cell_type": "code",
   "execution_count": 118,
   "metadata": {
    "id": "3enfvsRsBhOI"
   },
   "outputs": [],
   "source": [
    "def normalize(v):\n",
    "    norm=np.linalg.norm(v, ord=1)\n",
    "    if norm==0:\n",
    "        norm=np.finfo(v.dtype).eps\n",
    "    return v/norm"
   ]
  },
  {
   "cell_type": "code",
   "execution_count": 119,
   "metadata": {
    "id": "rAGJM-tcFy3R"
   },
   "outputs": [],
   "source": [
    "embeddings = []\n",
    "for vec in list(tag_we_dict.values()):\n",
    "  embeddings.append(normalize(vec))"
   ]
  },
  {
   "cell_type": "code",
   "execution_count": 120,
   "metadata": {
    "id": "GbEPhRRU7yZ_"
   },
   "outputs": [],
   "source": [
    "X = np.array(embeddings)"
   ]
  },
  {
   "cell_type": "code",
   "execution_count": 121,
   "metadata": {
    "colab": {
     "base_uri": "https://localhost:8080/"
    },
    "id": "wRTfyRSP8zy0",
    "outputId": "6245268d-0722-4a1e-a775-1b3516ad078d"
   },
   "outputs": [
    {
     "data": {
      "text/plain": [
       "array([0, 0, 0, 0, 0, 0, 0, 0, 0, 0, 0, 0, 0, 0, 0, 0, 0, 0, 0, 0])"
      ]
     },
     "execution_count": 121,
     "metadata": {
      "tags": []
     },
     "output_type": "execute_result"
    }
   ],
   "source": [
    "dbscan = DBSCAN(eps=0.5, min_samples=5, metric='euclidean', metric_params=None, algorithm='brute', leaf_size=30, p=None, n_jobs=None).fit(X)\n",
    "dbscan.labels_"
   ]
  },
  {
   "cell_type": "code",
   "execution_count": 122,
   "metadata": {
    "colab": {
     "base_uri": "https://localhost:8080/"
    },
    "id": "0RBmTGMK90Ce",
    "outputId": "b9590227-3cb3-46ae-98bb-7deb4ccd472e"
   },
   "outputs": [
    {
     "data": {
      "text/plain": [
       "array([1, 1, 5, 4, 0, 6, 4, 1, 0, 1, 7, 2, 2, 2, 4, 3, 3, 0, 2, 3],\n",
       "      dtype=int32)"
      ]
     },
     "execution_count": 122,
     "metadata": {
      "tags": []
     },
     "output_type": "execute_result"
    }
   ],
   "source": [
    " kmeans = KMeans(n_clusters=8, random_state=0).fit(X)\n",
    "kmeans.labels_"
   ]
  },
  {
   "cell_type": "code",
   "execution_count": 123,
   "metadata": {
    "id": "UWeNDxAs-Ukg"
   },
   "outputs": [],
   "source": [
    "p = np.array(list(tag_we_dict.keys()))"
   ]
  },
  {
   "cell_type": "code",
   "execution_count": 124,
   "metadata": {
    "colab": {
     "base_uri": "https://localhost:8080/"
    },
    "id": "J4VhgxBR_98L",
    "outputId": "f8042139-c535-411e-b150-d20b03a6c23e"
   },
   "outputs": [
    {
     "name": "stdout",
     "output_type": "stream",
     "text": [
      "['car' 'car outlet' 'car charger']\n",
      "  \n",
      "['hdmi converter' 'motorola razr' 'kindle touch' 'motorola razor']\n",
      "  \n",
      "['phone' 'phone charges' 'old razor phone' 'phone charger']\n",
      "  \n",
      "['charger' 'disconnected charger' 'little charger']\n",
      "  \n",
      "['white touch screen' 'power source' 'blue light']\n",
      "  \n",
      "['mp3 players']\n",
      "  \n",
      "['mini usb']\n",
      "  \n",
      "['few other phones']\n",
      "  \n"
     ]
    }
   ],
   "source": [
    "for i in range(8):\n",
    "    print(p[kmeans.labels_ == i])\n",
    "    print(\"  \")"
   ]
  },
  {
   "cell_type": "code",
   "execution_count": null,
   "metadata": {
    "id": "Vl8vwoLFACaE"
   },
   "outputs": [],
   "source": []
  }
 ],
 "metadata": {
  "colab": {
   "name": "Siemens",
   "provenance": []
  },
  "kernelspec": {
   "display_name": "Python 3",
   "language": "python",
   "name": "python3"
  },
  "language_info": {
   "codemirror_mode": {
    "name": "ipython",
    "version": 3
   },
   "file_extension": ".py",
   "mimetype": "text/x-python",
   "name": "python",
   "nbconvert_exporter": "python",
   "pygments_lexer": "ipython3",
   "version": "3.7.2"
  }
 },
 "nbformat": 4,
 "nbformat_minor": 1
}
