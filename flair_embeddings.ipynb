{
  "nbformat": 4,
  "nbformat_minor": 0,
  "metadata": {
    "colab": {
      "name": "flair_embeddings.ipynb",
      "provenance": [],
      "collapsed_sections": []
    },
    "kernelspec": {
      "name": "python3",
      "display_name": "Python 3"
    }
  },
  "cells": [
    {
      "cell_type": "code",
      "metadata": {
        "id": "UApR_B6ClnJI",
        "colab": {
          "base_uri": "https://localhost:8080/"
        },
        "outputId": "7ab06d37-40b5-46a2-ce01-1cef5e5e41b6"
      },
      "source": [
        "!wget http://snap.stanford.edu/data/amazon/productGraph/categoryFiles/reviews_Cell_Phones_and_Accessories_5.json.gz"
      ],
      "execution_count": 1,
      "outputs": [
        {
          "output_type": "stream",
          "text": [
            "--2020-12-13 08:41:34--  http://snap.stanford.edu/data/amazon/productGraph/categoryFiles/reviews_Cell_Phones_and_Accessories_5.json.gz\n",
            "Resolving snap.stanford.edu (snap.stanford.edu)... 171.64.75.80\n",
            "Connecting to snap.stanford.edu (snap.stanford.edu)|171.64.75.80|:80... connected.\n",
            "HTTP request sent, awaiting response... 200 OK\n",
            "Length: 45409631 (43M) [application/x-gzip]\n",
            "Saving to: ‘reviews_Cell_Phones_and_Accessories_5.json.gz’\n",
            "\n",
            "reviews_Cell_Phones 100%[===================>]  43.31M  12.0MB/s    in 4.2s    \n",
            "\n",
            "2020-12-13 08:41:38 (10.3 MB/s) - ‘reviews_Cell_Phones_and_Accessories_5.json.gz’ saved [45409631/45409631]\n",
            "\n"
          ],
          "name": "stdout"
        }
      ]
    },
    {
      "cell_type": "code",
      "metadata": {
        "id": "efyrNmeQLQ9B",
        "colab": {
          "base_uri": "https://localhost:8080/"
        },
        "outputId": "84814746-8473-4a20-8829-eac8bd1e4b41"
      },
      "source": [
        "!python3 -m nltk.downloader stopwords\n",
        "!python3 -m nltk.downloader universal_tagset\n",
        "!python3 -m spacy download en # download the english model"
      ],
      "execution_count": 2,
      "outputs": [
        {
          "output_type": "stream",
          "text": [
            "/usr/lib/python3.6/runpy.py:125: RuntimeWarning: 'nltk.downloader' found in sys.modules after import of package 'nltk', but prior to execution of 'nltk.downloader'; this may result in unpredictable behaviour\n",
            "  warn(RuntimeWarning(msg))\n",
            "[nltk_data] Downloading package stopwords to /root/nltk_data...\n",
            "[nltk_data]   Unzipping corpora/stopwords.zip.\n",
            "/usr/lib/python3.6/runpy.py:125: RuntimeWarning: 'nltk.downloader' found in sys.modules after import of package 'nltk', but prior to execution of 'nltk.downloader'; this may result in unpredictable behaviour\n",
            "  warn(RuntimeWarning(msg))\n",
            "[nltk_data] Downloading package universal_tagset to /root/nltk_data...\n",
            "[nltk_data]   Unzipping taggers/universal_tagset.zip.\n",
            "Requirement already satisfied: en_core_web_sm==2.2.5 from https://github.com/explosion/spacy-models/releases/download/en_core_web_sm-2.2.5/en_core_web_sm-2.2.5.tar.gz#egg=en_core_web_sm==2.2.5 in /usr/local/lib/python3.6/dist-packages (2.2.5)\n",
            "Requirement already satisfied: spacy>=2.2.2 in /usr/local/lib/python3.6/dist-packages (from en_core_web_sm==2.2.5) (2.2.4)\n",
            "Requirement already satisfied: requests<3.0.0,>=2.13.0 in /usr/local/lib/python3.6/dist-packages (from spacy>=2.2.2->en_core_web_sm==2.2.5) (2.23.0)\n",
            "Requirement already satisfied: plac<1.2.0,>=0.9.6 in /usr/local/lib/python3.6/dist-packages (from spacy>=2.2.2->en_core_web_sm==2.2.5) (1.1.3)\n",
            "Requirement already satisfied: murmurhash<1.1.0,>=0.28.0 in /usr/local/lib/python3.6/dist-packages (from spacy>=2.2.2->en_core_web_sm==2.2.5) (1.0.5)\n",
            "Requirement already satisfied: thinc==7.4.0 in /usr/local/lib/python3.6/dist-packages (from spacy>=2.2.2->en_core_web_sm==2.2.5) (7.4.0)\n",
            "Requirement already satisfied: blis<0.5.0,>=0.4.0 in /usr/local/lib/python3.6/dist-packages (from spacy>=2.2.2->en_core_web_sm==2.2.5) (0.4.1)\n",
            "Requirement already satisfied: setuptools in /usr/local/lib/python3.6/dist-packages (from spacy>=2.2.2->en_core_web_sm==2.2.5) (50.3.2)\n",
            "Requirement already satisfied: wasabi<1.1.0,>=0.4.0 in /usr/local/lib/python3.6/dist-packages (from spacy>=2.2.2->en_core_web_sm==2.2.5) (0.8.0)\n",
            "Requirement already satisfied: srsly<1.1.0,>=1.0.2 in /usr/local/lib/python3.6/dist-packages (from spacy>=2.2.2->en_core_web_sm==2.2.5) (1.0.5)\n",
            "Requirement already satisfied: tqdm<5.0.0,>=4.38.0 in /usr/local/lib/python3.6/dist-packages (from spacy>=2.2.2->en_core_web_sm==2.2.5) (4.41.1)\n",
            "Requirement already satisfied: numpy>=1.15.0 in /usr/local/lib/python3.6/dist-packages (from spacy>=2.2.2->en_core_web_sm==2.2.5) (1.18.5)\n",
            "Requirement already satisfied: cymem<2.1.0,>=2.0.2 in /usr/local/lib/python3.6/dist-packages (from spacy>=2.2.2->en_core_web_sm==2.2.5) (2.0.5)\n",
            "Requirement already satisfied: preshed<3.1.0,>=3.0.2 in /usr/local/lib/python3.6/dist-packages (from spacy>=2.2.2->en_core_web_sm==2.2.5) (3.0.5)\n",
            "Requirement already satisfied: catalogue<1.1.0,>=0.0.7 in /usr/local/lib/python3.6/dist-packages (from spacy>=2.2.2->en_core_web_sm==2.2.5) (1.0.0)\n",
            "Requirement already satisfied: idna<3,>=2.5 in /usr/local/lib/python3.6/dist-packages (from requests<3.0.0,>=2.13.0->spacy>=2.2.2->en_core_web_sm==2.2.5) (2.10)\n",
            "Requirement already satisfied: urllib3!=1.25.0,!=1.25.1,<1.26,>=1.21.1 in /usr/local/lib/python3.6/dist-packages (from requests<3.0.0,>=2.13.0->spacy>=2.2.2->en_core_web_sm==2.2.5) (1.24.3)\n",
            "Requirement already satisfied: certifi>=2017.4.17 in /usr/local/lib/python3.6/dist-packages (from requests<3.0.0,>=2.13.0->spacy>=2.2.2->en_core_web_sm==2.2.5) (2020.12.5)\n",
            "Requirement already satisfied: chardet<4,>=3.0.2 in /usr/local/lib/python3.6/dist-packages (from requests<3.0.0,>=2.13.0->spacy>=2.2.2->en_core_web_sm==2.2.5) (3.0.4)\n",
            "Requirement already satisfied: importlib-metadata>=0.20; python_version < \"3.8\" in /usr/local/lib/python3.6/dist-packages (from catalogue<1.1.0,>=0.0.7->spacy>=2.2.2->en_core_web_sm==2.2.5) (3.1.1)\n",
            "Requirement already satisfied: zipp>=0.5 in /usr/local/lib/python3.6/dist-packages (from importlib-metadata>=0.20; python_version < \"3.8\"->catalogue<1.1.0,>=0.0.7->spacy>=2.2.2->en_core_web_sm==2.2.5) (3.4.0)\n",
            "\u001b[38;5;2m✔ Download and installation successful\u001b[0m\n",
            "You can now load the model via spacy.load('en_core_web_sm')\n",
            "\u001b[38;5;2m✔ Linking successful\u001b[0m\n",
            "/usr/local/lib/python3.6/dist-packages/en_core_web_sm -->\n",
            "/usr/local/lib/python3.6/dist-packages/spacy/data/en\n",
            "You can now load the model via spacy.load('en')\n"
          ],
          "name": "stdout"
        }
      ]
    },
    {
      "cell_type": "code",
      "metadata": {
        "id": "c7RRfI4rLMmQ",
        "colab": {
          "base_uri": "https://localhost:8080/"
        },
        "outputId": "c44ef730-2bf9-4a19-ad00-51512506515a"
      },
      "source": [
        "!pip install git+https://github.com/boudinfl/pke.git"
      ],
      "execution_count": 3,
      "outputs": [
        {
          "output_type": "stream",
          "text": [
            "Collecting git+https://github.com/boudinfl/pke.git\n",
            "  Cloning https://github.com/boudinfl/pke.git to /tmp/pip-req-build-huedm1re\n",
            "  Running command git clone -q https://github.com/boudinfl/pke.git /tmp/pip-req-build-huedm1re\n",
            "Requirement already satisfied: nltk in /usr/local/lib/python3.6/dist-packages (from pke==1.8.1) (3.2.5)\n",
            "Requirement already satisfied: networkx in /usr/local/lib/python3.6/dist-packages (from pke==1.8.1) (2.5)\n",
            "Requirement already satisfied: numpy in /usr/local/lib/python3.6/dist-packages (from pke==1.8.1) (1.18.5)\n",
            "Requirement already satisfied: scipy in /usr/local/lib/python3.6/dist-packages (from pke==1.8.1) (1.4.1)\n",
            "Requirement already satisfied: spacy in /usr/local/lib/python3.6/dist-packages (from pke==1.8.1) (2.2.4)\n",
            "Requirement already satisfied: six in /usr/local/lib/python3.6/dist-packages (from pke==1.8.1) (1.15.0)\n",
            "Requirement already satisfied: sklearn in /usr/local/lib/python3.6/dist-packages (from pke==1.8.1) (0.0)\n",
            "Collecting unidecode\n",
            "\u001b[?25l  Downloading https://files.pythonhosted.org/packages/d0/42/d9edfed04228bacea2d824904cae367ee9efd05e6cce7ceaaedd0b0ad964/Unidecode-1.1.1-py2.py3-none-any.whl (238kB)\n",
            "\u001b[K     |████████████████████████████████| 245kB 4.2MB/s \n",
            "\u001b[?25hRequirement already satisfied: future in /usr/local/lib/python3.6/dist-packages (from pke==1.8.1) (0.16.0)\n",
            "Requirement already satisfied: joblib in /usr/local/lib/python3.6/dist-packages (from pke==1.8.1) (0.17.0)\n",
            "Requirement already satisfied: decorator>=4.3.0 in /usr/local/lib/python3.6/dist-packages (from networkx->pke==1.8.1) (4.4.2)\n",
            "Requirement already satisfied: srsly<1.1.0,>=1.0.2 in /usr/local/lib/python3.6/dist-packages (from spacy->pke==1.8.1) (1.0.5)\n",
            "Requirement already satisfied: setuptools in /usr/local/lib/python3.6/dist-packages (from spacy->pke==1.8.1) (50.3.2)\n",
            "Requirement already satisfied: thinc==7.4.0 in /usr/local/lib/python3.6/dist-packages (from spacy->pke==1.8.1) (7.4.0)\n",
            "Requirement already satisfied: tqdm<5.0.0,>=4.38.0 in /usr/local/lib/python3.6/dist-packages (from spacy->pke==1.8.1) (4.41.1)\n",
            "Requirement already satisfied: wasabi<1.1.0,>=0.4.0 in /usr/local/lib/python3.6/dist-packages (from spacy->pke==1.8.1) (0.8.0)\n",
            "Requirement already satisfied: requests<3.0.0,>=2.13.0 in /usr/local/lib/python3.6/dist-packages (from spacy->pke==1.8.1) (2.23.0)\n",
            "Requirement already satisfied: catalogue<1.1.0,>=0.0.7 in /usr/local/lib/python3.6/dist-packages (from spacy->pke==1.8.1) (1.0.0)\n",
            "Requirement already satisfied: cymem<2.1.0,>=2.0.2 in /usr/local/lib/python3.6/dist-packages (from spacy->pke==1.8.1) (2.0.5)\n",
            "Requirement already satisfied: plac<1.2.0,>=0.9.6 in /usr/local/lib/python3.6/dist-packages (from spacy->pke==1.8.1) (1.1.3)\n",
            "Requirement already satisfied: blis<0.5.0,>=0.4.0 in /usr/local/lib/python3.6/dist-packages (from spacy->pke==1.8.1) (0.4.1)\n",
            "Requirement already satisfied: preshed<3.1.0,>=3.0.2 in /usr/local/lib/python3.6/dist-packages (from spacy->pke==1.8.1) (3.0.5)\n",
            "Requirement already satisfied: murmurhash<1.1.0,>=0.28.0 in /usr/local/lib/python3.6/dist-packages (from spacy->pke==1.8.1) (1.0.5)\n",
            "Requirement already satisfied: scikit-learn in /usr/local/lib/python3.6/dist-packages (from sklearn->pke==1.8.1) (0.22.2.post1)\n",
            "Requirement already satisfied: certifi>=2017.4.17 in /usr/local/lib/python3.6/dist-packages (from requests<3.0.0,>=2.13.0->spacy->pke==1.8.1) (2020.12.5)\n",
            "Requirement already satisfied: chardet<4,>=3.0.2 in /usr/local/lib/python3.6/dist-packages (from requests<3.0.0,>=2.13.0->spacy->pke==1.8.1) (3.0.4)\n",
            "Requirement already satisfied: idna<3,>=2.5 in /usr/local/lib/python3.6/dist-packages (from requests<3.0.0,>=2.13.0->spacy->pke==1.8.1) (2.10)\n",
            "Requirement already satisfied: urllib3!=1.25.0,!=1.25.1,<1.26,>=1.21.1 in /usr/local/lib/python3.6/dist-packages (from requests<3.0.0,>=2.13.0->spacy->pke==1.8.1) (1.24.3)\n",
            "Requirement already satisfied: importlib-metadata>=0.20; python_version < \"3.8\" in /usr/local/lib/python3.6/dist-packages (from catalogue<1.1.0,>=0.0.7->spacy->pke==1.8.1) (3.1.1)\n",
            "Requirement already satisfied: zipp>=0.5 in /usr/local/lib/python3.6/dist-packages (from importlib-metadata>=0.20; python_version < \"3.8\"->catalogue<1.1.0,>=0.0.7->spacy->pke==1.8.1) (3.4.0)\n",
            "Building wheels for collected packages: pke\n",
            "  Building wheel for pke (setup.py) ... \u001b[?25l\u001b[?25hdone\n",
            "  Created wheel for pke: filename=pke-1.8.1-cp36-none-any.whl size=8763598 sha256=d2dc600a7699c896faf64736e00524c430f0a9c5c0fa5468c2c5efefef96c2ab\n",
            "  Stored in directory: /tmp/pip-ephem-wheel-cache-2prt80pd/wheels/8d/24/54/6582e854e9e32dd6c632af6762b3a5d2f6b181c2992e165462\n",
            "Successfully built pke\n",
            "Installing collected packages: unidecode, pke\n",
            "Successfully installed pke-1.8.1 unidecode-1.1.1\n"
          ],
          "name": "stdout"
        }
      ]
    },
    {
      "cell_type": "code",
      "metadata": {
        "id": "XfxR3syQAujn",
        "colab": {
          "base_uri": "https://localhost:8080/"
        },
        "outputId": "02a9ebae-48c5-412b-a88f-be217b931338"
      },
      "source": [
        "!pip install flair"
      ],
      "execution_count": 4,
      "outputs": [
        {
          "output_type": "stream",
          "text": [
            "Collecting flair\n",
            "\u001b[?25l  Downloading https://files.pythonhosted.org/packages/68/a0/a1b41fa2fcb23ff71ba9148af75211dcccc35b256dea821b36e1ee871848/flair-0.7-py3-none-any.whl (448kB)\n",
            "\r\u001b[K     |▊                               | 10kB 16.9MB/s eta 0:00:01\r\u001b[K     |█▌                              | 20kB 17.8MB/s eta 0:00:01\r\u001b[K     |██▏                             | 30kB 10.2MB/s eta 0:00:01\r\u001b[K     |███                             | 40kB 8.2MB/s eta 0:00:01\r\u001b[K     |███▋                            | 51kB 4.5MB/s eta 0:00:01\r\u001b[K     |████▍                           | 61kB 4.9MB/s eta 0:00:01\r\u001b[K     |█████▏                          | 71kB 5.1MB/s eta 0:00:01\r\u001b[K     |█████▉                          | 81kB 5.3MB/s eta 0:00:01\r\u001b[K     |██████▋                         | 92kB 5.3MB/s eta 0:00:01\r\u001b[K     |███████▎                        | 102kB 4.3MB/s eta 0:00:01\r\u001b[K     |████████                        | 112kB 4.3MB/s eta 0:00:01\r\u001b[K     |████████▊                       | 122kB 4.3MB/s eta 0:00:01\r\u001b[K     |█████████▌                      | 133kB 4.3MB/s eta 0:00:01\r\u001b[K     |██████████▎                     | 143kB 4.3MB/s eta 0:00:01\r\u001b[K     |███████████                     | 153kB 4.3MB/s eta 0:00:01\r\u001b[K     |███████████▊                    | 163kB 4.3MB/s eta 0:00:01\r\u001b[K     |████████████▍                   | 174kB 4.3MB/s eta 0:00:01\r\u001b[K     |█████████████▏                  | 184kB 4.3MB/s eta 0:00:01\r\u001b[K     |█████████████▉                  | 194kB 4.3MB/s eta 0:00:01\r\u001b[K     |██████████████▋                 | 204kB 4.3MB/s eta 0:00:01\r\u001b[K     |███████████████▍                | 215kB 4.3MB/s eta 0:00:01\r\u001b[K     |████████████████                | 225kB 4.3MB/s eta 0:00:01\r\u001b[K     |████████████████▉               | 235kB 4.3MB/s eta 0:00:01\r\u001b[K     |█████████████████▌              | 245kB 4.3MB/s eta 0:00:01\r\u001b[K     |██████████████████▎             | 256kB 4.3MB/s eta 0:00:01\r\u001b[K     |███████████████████             | 266kB 4.3MB/s eta 0:00:01\r\u001b[K     |███████████████████▊            | 276kB 4.3MB/s eta 0:00:01\r\u001b[K     |████████████████████▌           | 286kB 4.3MB/s eta 0:00:01\r\u001b[K     |█████████████████████▏          | 296kB 4.3MB/s eta 0:00:01\r\u001b[K     |██████████████████████          | 307kB 4.3MB/s eta 0:00:01\r\u001b[K     |██████████████████████▋         | 317kB 4.3MB/s eta 0:00:01\r\u001b[K     |███████████████████████▍        | 327kB 4.3MB/s eta 0:00:01\r\u001b[K     |████████████████████████▏       | 337kB 4.3MB/s eta 0:00:01\r\u001b[K     |████████████████████████▉       | 348kB 4.3MB/s eta 0:00:01\r\u001b[K     |█████████████████████████▋      | 358kB 4.3MB/s eta 0:00:01\r\u001b[K     |██████████████████████████▎     | 368kB 4.3MB/s eta 0:00:01\r\u001b[K     |███████████████████████████     | 378kB 4.3MB/s eta 0:00:01\r\u001b[K     |███████████████████████████▊    | 389kB 4.3MB/s eta 0:00:01\r\u001b[K     |████████████████████████████▌   | 399kB 4.3MB/s eta 0:00:01\r\u001b[K     |█████████████████████████████▎  | 409kB 4.3MB/s eta 0:00:01\r\u001b[K     |██████████████████████████████  | 419kB 4.3MB/s eta 0:00:01\r\u001b[K     |██████████████████████████████▊ | 430kB 4.3MB/s eta 0:00:01\r\u001b[K     |███████████████████████████████▍| 440kB 4.3MB/s eta 0:00:01\r\u001b[K     |████████████████████████████████| 450kB 4.3MB/s \n",
            "\u001b[?25hRequirement already satisfied: tqdm>=4.26.0 in /usr/local/lib/python3.6/dist-packages (from flair) (4.41.1)\n",
            "Collecting ftfy\n",
            "\u001b[?25l  Downloading https://files.pythonhosted.org/packages/ff/e2/3b51c53dffb1e52d9210ebc01f1fb9f2f6eba9b3201fa971fd3946643c71/ftfy-5.8.tar.gz (64kB)\n",
            "\u001b[K     |████████████████████████████████| 71kB 7.5MB/s \n",
            "\u001b[?25hCollecting langdetect\n",
            "\u001b[?25l  Downloading https://files.pythonhosted.org/packages/56/a3/8407c1e62d5980188b4acc45ef3d94b933d14a2ebc9ef3505f22cf772570/langdetect-1.0.8.tar.gz (981kB)\n",
            "\u001b[K     |████████████████████████████████| 983kB 41.0MB/s \n",
            "\u001b[?25hRequirement already satisfied: lxml in /usr/local/lib/python3.6/dist-packages (from flair) (4.2.6)\n",
            "Requirement already satisfied: gdown in /usr/local/lib/python3.6/dist-packages (from flair) (3.6.4)\n",
            "Collecting bpemb>=0.3.2\n",
            "  Downloading https://files.pythonhosted.org/packages/91/77/3f0f53856e86af32b1d3c86652815277f7b5f880002584eb30db115b6df5/bpemb-0.3.2-py3-none-any.whl\n",
            "Requirement already satisfied: scikit-learn>=0.21.3 in /usr/local/lib/python3.6/dist-packages (from flair) (0.22.2.post1)\n",
            "Collecting deprecated>=1.2.4\n",
            "  Downloading https://files.pythonhosted.org/packages/76/a1/05d7f62f956d77b23a640efc650f80ce24483aa2f85a09c03fb64f49e879/Deprecated-1.2.10-py2.py3-none-any.whl\n",
            "Requirement already satisfied: hyperopt>=0.1.1 in /usr/local/lib/python3.6/dist-packages (from flair) (0.1.2)\n",
            "Requirement already satisfied: torch>=1.1.0 in /usr/local/lib/python3.6/dist-packages (from flair) (1.7.0+cu101)\n",
            "Collecting sqlitedict>=1.6.0\n",
            "  Downloading https://files.pythonhosted.org/packages/5c/2d/b1d99e9ad157dd7de9cd0d36a8a5876b13b55e4b75f7498bc96035fb4e96/sqlitedict-1.7.0.tar.gz\n",
            "Collecting janome\n",
            "\u001b[?25l  Downloading https://files.pythonhosted.org/packages/a8/63/98858cbead27df7536c7e300c169da0999e9704d02220dc6700b804eeff0/Janome-0.4.1-py2.py3-none-any.whl (19.7MB)\n",
            "\u001b[K     |████████████████████████████████| 19.7MB 1.2MB/s \n",
            "\u001b[?25hCollecting konoha<5.0.0,>=4.0.0\n",
            "  Downloading https://files.pythonhosted.org/packages/ea/01/47358efec5396fc80f98273c42cbdfe7aab056252b07884ffcc0f118978f/konoha-4.6.2-py3-none-any.whl\n",
            "Requirement already satisfied: gensim<=3.8.3,>=3.4.0 in /usr/local/lib/python3.6/dist-packages (from flair) (3.6.0)\n",
            "Collecting mpld3==0.3\n",
            "\u001b[?25l  Downloading https://files.pythonhosted.org/packages/91/95/a52d3a83d0a29ba0d6898f6727e9858fe7a43f6c2ce81a5fe7e05f0f4912/mpld3-0.3.tar.gz (788kB)\n",
            "\u001b[K     |████████████████████████████████| 798kB 43.2MB/s \n",
            "\u001b[?25hRequirement already satisfied: regex in /usr/local/lib/python3.6/dist-packages (from flair) (2019.12.20)\n",
            "Collecting segtok>=1.5.7\n",
            "  Downloading https://files.pythonhosted.org/packages/41/08/582dab5f4b1d5ca23bc6927b4bb977c8ff7f3a87a3b98844ef833e2f5623/segtok-1.5.10.tar.gz\n",
            "Requirement already satisfied: tabulate in /usr/local/lib/python3.6/dist-packages (from flair) (0.8.7)\n",
            "Requirement already satisfied: python-dateutil>=2.6.1 in /usr/local/lib/python3.6/dist-packages (from flair) (2.8.1)\n",
            "Collecting sentencepiece<=0.1.91\n",
            "\u001b[?25l  Downloading https://files.pythonhosted.org/packages/d4/a4/d0a884c4300004a78cca907a6ff9a5e9fe4f090f5d95ab341c53d28cbc58/sentencepiece-0.1.91-cp36-cp36m-manylinux1_x86_64.whl (1.1MB)\n",
            "\u001b[K     |████████████████████████████████| 1.1MB 42.9MB/s \n",
            "\u001b[?25hRequirement already satisfied: matplotlib>=2.2.3 in /usr/local/lib/python3.6/dist-packages (from flair) (3.2.2)\n",
            "Collecting transformers<=3.5.1,>=3.5.0\n",
            "\u001b[?25l  Downloading https://files.pythonhosted.org/packages/3a/83/e74092e7f24a08d751aa59b37a9fc572b2e4af3918cb66f7766c3affb1b4/transformers-3.5.1-py3-none-any.whl (1.3MB)\n",
            "\u001b[K     |████████████████████████████████| 1.3MB 37.5MB/s \n",
            "\u001b[?25hRequirement already satisfied: wcwidth in /usr/local/lib/python3.6/dist-packages (from ftfy->flair) (0.2.5)\n",
            "Requirement already satisfied: six in /usr/local/lib/python3.6/dist-packages (from langdetect->flair) (1.15.0)\n",
            "Requirement already satisfied: requests in /usr/local/lib/python3.6/dist-packages (from gdown->flair) (2.23.0)\n",
            "Requirement already satisfied: numpy in /usr/local/lib/python3.6/dist-packages (from bpemb>=0.3.2->flair) (1.18.5)\n",
            "Requirement already satisfied: scipy>=0.17.0 in /usr/local/lib/python3.6/dist-packages (from scikit-learn>=0.21.3->flair) (1.4.1)\n",
            "Requirement already satisfied: joblib>=0.11 in /usr/local/lib/python3.6/dist-packages (from scikit-learn>=0.21.3->flair) (0.17.0)\n",
            "Requirement already satisfied: wrapt<2,>=1.10 in /usr/local/lib/python3.6/dist-packages (from deprecated>=1.2.4->flair) (1.12.1)\n",
            "Requirement already satisfied: pymongo in /usr/local/lib/python3.6/dist-packages (from hyperopt>=0.1.1->flair) (3.11.2)\n",
            "Requirement already satisfied: networkx in /usr/local/lib/python3.6/dist-packages (from hyperopt>=0.1.1->flair) (2.5)\n",
            "Requirement already satisfied: future in /usr/local/lib/python3.6/dist-packages (from hyperopt>=0.1.1->flair) (0.16.0)\n",
            "Requirement already satisfied: dataclasses in /usr/local/lib/python3.6/dist-packages (from torch>=1.1.0->flair) (0.8)\n",
            "Requirement already satisfied: typing-extensions in /usr/local/lib/python3.6/dist-packages (from torch>=1.1.0->flair) (3.7.4.3)\n",
            "Collecting overrides==3.0.0\n",
            "  Downloading https://files.pythonhosted.org/packages/42/8d/caa729f809ecdf8e76fac3c1ff7d3f0b72c398c9dd8a6919927a30a873b3/overrides-3.0.0.tar.gz\n",
            "Requirement already satisfied: smart-open>=1.2.1 in /usr/local/lib/python3.6/dist-packages (from gensim<=3.8.3,>=3.4.0->flair) (4.0.1)\n",
            "Requirement already satisfied: cycler>=0.10 in /usr/local/lib/python3.6/dist-packages (from matplotlib>=2.2.3->flair) (0.10.0)\n",
            "Requirement already satisfied: pyparsing!=2.0.4,!=2.1.2,!=2.1.6,>=2.0.1 in /usr/local/lib/python3.6/dist-packages (from matplotlib>=2.2.3->flair) (2.4.7)\n",
            "Requirement already satisfied: kiwisolver>=1.0.1 in /usr/local/lib/python3.6/dist-packages (from matplotlib>=2.2.3->flair) (1.3.1)\n",
            "Collecting sacremoses\n",
            "\u001b[?25l  Downloading https://files.pythonhosted.org/packages/7d/34/09d19aff26edcc8eb2a01bed8e98f13a1537005d31e95233fd48216eed10/sacremoses-0.0.43.tar.gz (883kB)\n",
            "\u001b[K     |████████████████████████████████| 890kB 41.2MB/s \n",
            "\u001b[?25hRequirement already satisfied: filelock in /usr/local/lib/python3.6/dist-packages (from transformers<=3.5.1,>=3.5.0->flair) (3.0.12)\n",
            "Requirement already satisfied: packaging in /usr/local/lib/python3.6/dist-packages (from transformers<=3.5.1,>=3.5.0->flair) (20.7)\n",
            "Collecting tokenizers==0.9.3\n",
            "\u001b[?25l  Downloading https://files.pythonhosted.org/packages/4c/34/b39eb9994bc3c999270b69c9eea40ecc6f0e97991dba28282b9fd32d44ee/tokenizers-0.9.3-cp36-cp36m-manylinux1_x86_64.whl (2.9MB)\n",
            "\u001b[K     |████████████████████████████████| 2.9MB 39.0MB/s \n",
            "\u001b[?25hRequirement already satisfied: protobuf in /usr/local/lib/python3.6/dist-packages (from transformers<=3.5.1,>=3.5.0->flair) (3.12.4)\n",
            "Requirement already satisfied: urllib3!=1.25.0,!=1.25.1,<1.26,>=1.21.1 in /usr/local/lib/python3.6/dist-packages (from requests->gdown->flair) (1.24.3)\n",
            "Requirement already satisfied: chardet<4,>=3.0.2 in /usr/local/lib/python3.6/dist-packages (from requests->gdown->flair) (3.0.4)\n",
            "Requirement already satisfied: certifi>=2017.4.17 in /usr/local/lib/python3.6/dist-packages (from requests->gdown->flair) (2020.12.5)\n",
            "Requirement already satisfied: idna<3,>=2.5 in /usr/local/lib/python3.6/dist-packages (from requests->gdown->flair) (2.10)\n",
            "Requirement already satisfied: decorator>=4.3.0 in /usr/local/lib/python3.6/dist-packages (from networkx->hyperopt>=0.1.1->flair) (4.4.2)\n",
            "Requirement already satisfied: click in /usr/local/lib/python3.6/dist-packages (from sacremoses->transformers<=3.5.1,>=3.5.0->flair) (7.1.2)\n",
            "Requirement already satisfied: setuptools in /usr/local/lib/python3.6/dist-packages (from protobuf->transformers<=3.5.1,>=3.5.0->flair) (50.3.2)\n",
            "Building wheels for collected packages: ftfy, langdetect, sqlitedict, mpld3, segtok, overrides, sacremoses\n",
            "  Building wheel for ftfy (setup.py) ... \u001b[?25l\u001b[?25hdone\n",
            "  Created wheel for ftfy: filename=ftfy-5.8-cp36-none-any.whl size=45613 sha256=7891ee6e92f42f8fd3d3cde88fe153d465fe04471ae6980cdad932faf6839ecc\n",
            "  Stored in directory: /root/.cache/pip/wheels/ba/c0/ef/f28c4da5ac84a4e06ac256ca9182fc34fa57fefffdbc68425b\n",
            "  Building wheel for langdetect (setup.py) ... \u001b[?25l\u001b[?25hdone\n",
            "  Created wheel for langdetect: filename=langdetect-1.0.8-cp36-none-any.whl size=993193 sha256=747add9fabc63726f21d7ac3481bfae5b5dc1a63d60e45024fdd0672ab4d6939\n",
            "  Stored in directory: /root/.cache/pip/wheels/8d/b3/aa/6d99de9f3841d7d3d40a60ea06e6d669e8e5012e6c8b947a57\n",
            "  Building wheel for sqlitedict (setup.py) ... \u001b[?25l\u001b[?25hdone\n",
            "  Created wheel for sqlitedict: filename=sqlitedict-1.7.0-cp36-none-any.whl size=14377 sha256=d513da6178dfa506542aace7f31389cfe490f5f054a5fd5d9f847ff70942c15b\n",
            "  Stored in directory: /root/.cache/pip/wheels/cf/c6/4f/2c64a43f041415eb8b8740bd80e15e92f0d46c5e464d8e4b9b\n",
            "  Building wheel for mpld3 (setup.py) ... \u001b[?25l\u001b[?25hdone\n",
            "  Created wheel for mpld3: filename=mpld3-0.3-cp36-none-any.whl size=116679 sha256=9b4b7f9ef23ed543de3af395c2b444c9b7014fb5b8041b9461188339273930ca\n",
            "  Stored in directory: /root/.cache/pip/wheels/c0/47/fb/8a64f89aecfe0059830479308ad42d62e898a3e3cefdf6ba28\n",
            "  Building wheel for segtok (setup.py) ... \u001b[?25l\u001b[?25hdone\n",
            "  Created wheel for segtok: filename=segtok-1.5.10-cp36-none-any.whl size=25020 sha256=dc255b787fdf10cf9f31812dd5886ec479d696a2fee2c851d70ace2c459d5f37\n",
            "  Stored in directory: /root/.cache/pip/wheels/b4/39/f6/9ca1c5cabde964d728023b5751c3a206a5c8cc40252321fb6b\n",
            "  Building wheel for overrides (setup.py) ... \u001b[?25l\u001b[?25hdone\n",
            "  Created wheel for overrides: filename=overrides-3.0.0-cp36-none-any.whl size=5669 sha256=828b236f8e4f6c59fc4e4a39461ad2f119277c887f6df53bdead6ffbcb58eaed\n",
            "  Stored in directory: /root/.cache/pip/wheels/6f/1b/ec/6c71a1eb823df7f850d956b2d8c50a6d49c191e1063d73b9be\n",
            "  Building wheel for sacremoses (setup.py) ... \u001b[?25l\u001b[?25hdone\n",
            "  Created wheel for sacremoses: filename=sacremoses-0.0.43-cp36-none-any.whl size=893261 sha256=2a2e0912196d59d2a645fc1d7deacf512622eb000d728c2b50a9ee8ccd825ef2\n",
            "  Stored in directory: /root/.cache/pip/wheels/29/3c/fd/7ce5c3f0666dab31a50123635e6fb5e19ceb42ce38d4e58f45\n",
            "Successfully built ftfy langdetect sqlitedict mpld3 segtok overrides sacremoses\n",
            "Installing collected packages: ftfy, langdetect, sentencepiece, bpemb, deprecated, sqlitedict, janome, overrides, konoha, mpld3, segtok, sacremoses, tokenizers, transformers, flair\n",
            "Successfully installed bpemb-0.3.2 deprecated-1.2.10 flair-0.7 ftfy-5.8 janome-0.4.1 konoha-4.6.2 langdetect-1.0.8 mpld3-0.3 overrides-3.0.0 sacremoses-0.0.43 segtok-1.5.10 sentencepiece-0.1.91 sqlitedict-1.7.0 tokenizers-0.9.3 transformers-3.5.1\n"
          ],
          "name": "stdout"
        }
      ]
    },
    {
      "cell_type": "code",
      "metadata": {
        "id": "2MtO30SaAkye"
      },
      "source": [
        "from flair.embeddings import WordEmbeddings, FlairEmbeddings, StackedEmbeddings, TransformerWordEmbeddings\n",
        "\n",
        "# create a StackedEmbedding object that combines glove and forward/backward flair embeddings\n",
        "stacked_embeddings = StackedEmbeddings([\n",
        "                                        WordEmbeddings('glove'),\n",
        "                                        FlairEmbeddings('news-forward-fast'),\n",
        "                                        FlairEmbeddings('news-backward-fast')\n",
        "                                       ])"
      ],
      "execution_count": 52,
      "outputs": []
    },
    {
      "cell_type": "code",
      "metadata": {
        "id": "C_Pjm9sKGxEB"
      },
      "source": [
        "with open('some.txt', 'r') as f:\n",
        "    s = f.read()"
      ],
      "execution_count": 27,
      "outputs": []
    },
    {
      "cell_type": "code",
      "metadata": {
        "id": "aZO88t59jcR_"
      },
      "source": [
        "we = {}"
      ],
      "execution_count": 48,
      "outputs": []
    },
    {
      "cell_type": "code",
      "metadata": {
        "id": "JUzeGWBJAn6I"
      },
      "source": [
        "from flair.data import Sentence\n",
        "sentence = Sentence(s)\n",
        "\n",
        "# just embed a sentence using the StackedEmbedding as you would with any single embedding.\n",
        "stacked_embeddings.embed(sentence)\n",
        "# now check out the embedded tokens.\n",
        "for token in sentence:\n",
        "    we[token.text] = token.embedding\n"
      ],
      "execution_count": 49,
      "outputs": []
    },
    {
      "cell_type": "code",
      "metadata": {
        "id": "znNsJeAvNjDj"
      },
      "source": [
        "import pke\n",
        "\n",
        "# define the valid Part-of-Speeches to occur in the graph\n",
        "pos = {'NOUN', 'PROPN', 'ADJ'}\n",
        "\n",
        "# define the grammar for selecting the keyphrase candidates\n",
        "grammar = \"NP: {<ADJ>*<NOUN|PROPN>+}\"\n",
        "\n",
        "# 1. create a PositionRank extractor.\n",
        "extractor = pke.unsupervised.PositionRank()\n",
        "\n",
        "# 2. load the content of the document.\n",
        "extractor.load_document(input='some.txt',\n",
        "                        language='en',\n",
        "                        normalization=None)\n",
        "\n",
        "# 3. select the noun phrases up to 3 words as keyphrase candidates.\n",
        "extractor.candidate_selection(grammar=grammar,\n",
        "                              maximum_word_number=3)\n",
        "\n",
        "# 4. weight the candidates using the sum of their word's scores that are\n",
        "#    computed using random walk biaised with the position of the words\n",
        "#    in the document. In the graph, nodes are words (nouns and\n",
        "#    adjectives only) that are connected if they occur in a window of\n",
        "#    10 words.\n",
        "extractor.candidate_weighting(window=10,\n",
        "                              pos=pos)\n",
        "\n",
        "# 5. get the 10-highest scored candidates as keyphrases\n",
        "keyphrases = extractor.get_n_best(n=20)"
      ],
      "execution_count": 33,
      "outputs": []
    },
    {
      "cell_type": "code",
      "metadata": {
        "colab": {
          "base_uri": "https://localhost:8080/"
        },
        "id": "y8ZmLZJKOuwd",
        "outputId": "1a6a7acb-298f-473d-dfbc-e66f57864396"
      },
      "source": [
        "keyphrases"
      ],
      "execution_count": 34,
      "outputs": [
        {
          "output_type": "execute_result",
          "data": {
            "text/plain": [
              "[('iphone car charger', 0.14101853191889602),\n",
              " ('lower quality charger', 0.10601647037245157),\n",
              " ('great car charger', 0.10240909301062759),\n",
              " ('at&t car charger', 0.09949252343014053),\n",
              " ('car charger', 0.07808359516278174),\n",
              " ('new iphone', 0.07399924993845962),\n",
              " ('great charger', 0.07276030966093779),\n",
              " ('charges', 0.070063824218452),\n",
              " ('girlfriends iphone', 0.06749793515301374),\n",
              " ('iphone', 0.06293493675611427),\n",
              " ('fast rate', 0.05505831203358287),\n",
              " ('second usb port', 0.054341103254313364),\n",
              " ('usb port', 0.0522508237857858),\n",
              " ('days usb chargers', 0.05195780788990237),\n",
              " ('broken defective charger', 0.05036840613697882),\n",
              " ('charger', 0.04843481181309195),\n",
              " ('usb cable', 0.042639218490218664),\n",
              " ('usb slot', 0.03987977315211335),\n",
              " ('usb', 0.03657340724063278),\n",
              " ('great price', 0.03614718800498726)]"
            ]
          },
          "metadata": {
            "tags": []
          },
          "execution_count": 34
        }
      ]
    },
    {
      "cell_type": "code",
      "metadata": {
        "id": "HuoWReSnjTYf"
      },
      "source": [
        "import torch\n",
        "def get_mean_emb(phrase):\n",
        "    ws = phrase.split(\" \")\n",
        "    vect = torch.zeros(list(we.values())[0].numpy().shape)\n",
        "    c = 1\n",
        "    for i in ws:\n",
        "        try:\n",
        "            vect += we[i]\n",
        "            c += 1\n",
        "        except KeyError:\n",
        "            pass\n",
        "    return (vect/c).numpy()"
      ],
      "execution_count": 35,
      "outputs": []
    },
    {
      "cell_type": "code",
      "metadata": {
        "id": "msiCclXArILj",
        "colab": {
          "base_uri": "https://localhost:8080/"
        },
        "outputId": "641d710e-e77e-4273-9f42-ae23a56631a8"
      },
      "source": [
        "from sklearn.cluster import KMeans\n",
        "import numpy as np\n",
        "X = np.array([   get_mean_emb(i) for i,j in keyphrases   ])\n",
        "\n",
        "kmeans = KMeans(n_clusters=8, random_state=0).fit(X)\n",
        "kmeans.labels_\n",
        "# kmeans.cluster_centers_"
      ],
      "execution_count": 50,
      "outputs": [
        {
          "output_type": "execute_result",
          "data": {
            "text/plain": [
              "array([0, 1, 0, 0, 0, 1, 0, 7, 2, 5, 1, 6, 6, 4, 0, 0, 3, 3, 5, 1],\n",
              "      dtype=int32)"
            ]
          },
          "metadata": {
            "tags": []
          },
          "execution_count": 50
        }
      ]
    },
    {
      "cell_type": "code",
      "metadata": {
        "colab": {
          "base_uri": "https://localhost:8080/"
        },
        "id": "S3XxIsI5D26U",
        "outputId": "8d7b372d-01e1-4e0f-83b1-da3a7dd69ecd"
      },
      "source": [
        "from sklearn.cluster import OPTICS\n",
        "import numpy as np\n",
        "X = np.array([   get_mean_emb(i) for i,j in keyphrases   ])\n",
        "clustering = OPTICS(min_samples=2).fit(X)\n",
        "clustering.labels_"
      ],
      "execution_count": 44,
      "outputs": [
        {
          "output_type": "stream",
          "text": [
            "/usr/local/lib/python3.6/dist-packages/sklearn/cluster/_optics.py:802: RuntimeWarning: divide by zero encountered in true_divide\n",
            "  ratio = reachability_plot[:-1] / reachability_plot[1:]\n"
          ],
          "name": "stderr"
        },
        {
          "output_type": "execute_result",
          "data": {
            "text/plain": [
              "array([ 0, -1,  1,  0,  0, -1,  1, -1,  2,  2, -1,  3,  3, -1, -1, -1, -1,\n",
              "       -1,  2, -1])"
            ]
          },
          "metadata": {
            "tags": []
          },
          "execution_count": 44
        }
      ]
    },
    {
      "cell_type": "code",
      "metadata": {
        "id": "NIT0KlQnrIIo"
      },
      "source": [
        "p = np.array(keyphrases)"
      ],
      "execution_count": 45,
      "outputs": []
    },
    {
      "cell_type": "code",
      "metadata": {
        "id": "3M9afr_TrIEG",
        "colab": {
          "base_uri": "https://localhost:8080/"
        },
        "outputId": "8bdd1f48-efba-484c-860f-09dc4b8cac22"
      },
      "source": [
        "for i in range(-1, 10):\n",
        "    print(p[kmeans.labels_ == i])\n",
        "    # print(p[clustering.labels_ == i])\n",
        "    print(\"  \")"
      ],
      "execution_count": 51,
      "outputs": [
        {
          "output_type": "stream",
          "text": [
            "[]\n",
            "  \n",
            "[['iphone car charger' '0.14101853191889602']\n",
            " ['great car charger' '0.10240909301062759']\n",
            " ['at&t car charger' '0.09949252343014053']\n",
            " ['car charger' '0.07808359516278174']\n",
            " ['great charger' '0.07276030966093779']\n",
            " ['broken defective charger' '0.05036840613697882']\n",
            " ['charger' '0.04843481181309195']]\n",
            "  \n",
            "[['lower quality charger' '0.10601647037245157']\n",
            " ['new iphone' '0.07399924993845962']\n",
            " ['fast rate' '0.05505831203358287']\n",
            " ['great price' '0.03614718800498726']]\n",
            "  \n",
            "[['girlfriends iphone' '0.06749793515301374']]\n",
            "  \n",
            "[['usb cable' '0.042639218490218664']\n",
            " ['usb slot' '0.03987977315211335']]\n",
            "  \n",
            "[['days usb chargers' '0.05195780788990237']]\n",
            "  \n",
            "[['iphone' '0.06293493675611427']\n",
            " ['usb' '0.03657340724063278']]\n",
            "  \n",
            "[['second usb port' '0.054341103254313364']\n",
            " ['usb port' '0.0522508237857858']]\n",
            "  \n",
            "[['charges' '0.070063824218452']]\n",
            "  \n",
            "[]\n",
            "  \n",
            "[]\n",
            "  \n"
          ],
          "name": "stdout"
        }
      ]
    },
    {
      "cell_type": "code",
      "metadata": {
        "id": "ADPI5Be8rH97"
      },
      "source": [
        ""
      ],
      "execution_count": 39,
      "outputs": []
    },
    {
      "cell_type": "code",
      "metadata": {
        "id": "JMpK7t9grHyF"
      },
      "source": [
        ""
      ],
      "execution_count": null,
      "outputs": []
    },
    {
      "cell_type": "code",
      "metadata": {
        "id": "rvG_LOKfrHhX"
      },
      "source": [
        ""
      ],
      "execution_count": null,
      "outputs": []
    },
    {
      "cell_type": "code",
      "metadata": {
        "id": "EdjXU0KojTJa"
      },
      "source": [
        ""
      ],
      "execution_count": null,
      "outputs": []
    },
    {
      "cell_type": "code",
      "metadata": {
        "colab": {
          "base_uri": "https://localhost:8080/",
          "height": 52
        },
        "id": "eq4MXeGcwyYB",
        "outputId": "650f1c58-c870-4bb5-bcba-e0dabc0b622a"
      },
      "source": [
        "\"Over the years, my household has tried multiple Bluetooth solutions for our hands-free communications needs. We\\'ve had acceptable results from a solution integrated into GPS...but much of our regular driving doesn\\'t include the need to load up a full-size GPS. We\\'ve\".replace(\"\\'\", \"'\")"
      ],
      "execution_count": null,
      "outputs": [
        {
          "output_type": "execute_result",
          "data": {
            "application/vnd.google.colaboratory.intrinsic+json": {
              "type": "string"
            },
            "text/plain": [
              "\"Over the years, my household has tried multiple Bluetooth solutions for our hands-free communications needs. We've had acceptable results from a solution integrated into GPS...but much of our regular driving doesn't include the need to load up a full-size GPS. We've\""
            ]
          },
          "metadata": {
            "tags": []
          },
          "execution_count": 170
        }
      ]
    },
    {
      "cell_type": "code",
      "metadata": {
        "colab": {
          "base_uri": "https://localhost:8080/",
          "height": 139
        },
        "id": "3BCtrOTzaoR6",
        "outputId": "513f8016-afb2-490e-8058-d13f67c7f3a3"
      },
      "source": [
        "myString = \". \".join(df[df['asin'] == df['asin'].unique()[1223]]['reviewText'])\n",
        "with open('some.txt','w') as f:\n",
        "    f.write(myString)\n",
        "myString"
      ],
      "execution_count": 24,
      "outputs": [
        {
          "output_type": "execute_result",
          "data": {
            "application/vnd.google.colaboratory.intrinsic+json": {
              "type": "string"
            },
            "text/plain": [
              "\"Charges the iPhone 4S or lower at a fast rate. Added plus is that it has a USB port on the top so you can plug another wire into it.. Now days USB chargers are built into cars. However I find myself driving a classic (paid for car and too cheap to upgrade). So I found this animal in the AT&T; store for an exorbitant price. I just purchased a new phone and was in a purchase craze and forgot to check here first.After I bought it I realized it had a light to help find and know when this critter is working.  And the USB was hidden under a slide thing. Looks like you can charge two phones at one time although I have not tried.Any way this charger has proven useful a couple of times and when not in use gives a feel of security by just knowing it is in the glove compartment.. Was in a store about to buy a car charger for my new iPhone.  (I actually still miss my blackberry!)  A lady told me I should go to Amazon to get it as I would save money.  So, I dropped the $29.95 car charger and came her and could have bought 3 for what they wanted for one there.  It charges very well and the second USB port is a dream!  Buy this one if you need an iPhone car charger at all!. I got three chargers. All are high quality. The cost of the three combined was less than the cost of one lower quality charger at radio shack.. This AT&T car charger is the best I've used for my iPhone 4S! It works really smoothly & efficiently! I'd give it 5 Stars & recommend everyone owns an iPhone 4S Device to purchase it without hesitation!. If you use your smart phone for mapping, you'll find this unit perfect. Stays put although the &#34;On&#34; light was a little too bright.. Nothing like the original product to make me happy. The after market items tend to be cheaper but so does the quality. Cant go wrong here!. These were ok chargers.  Not one of AT&T's best.  Shipped quickly. Price is fine for the product. Don't expect these to last for a long time.. Very reliable and useful. No complaints or malfunctions. Also has a handy additional port for another USB cable to charge an additional device.. I ordered three of these, one for each vehicle, after reading lots of good reviews.  My experience however was disappointing.  Two of the three chargers didn't work at all.  One appears to work just fine... but given the other two were dead, I asked to return the entire order since I didn't trust the third one to last long.  The seller immediately refunded my purchase (great service), so now I'm ordering another product.  We'll see how that one works out.. I purchased this one because I'm tired of China fakes.  This one made it sound like it as an AT&T; charger.  Based on the quality of the strain relief, I don't think so.I purchased 2 of these.  One for each car.  Seem to work great.  But...  If you pull the cord too much, the cable at the connector will become loose and not charge your phone.My definition of pulling too tight.  Some may say you cannot do that.  The cable obviously is looped so that it rolls up to be shorter when not in use.  We pulled the cord out about 1/2 to max length.  This seemed to put too much pressure on the connector.  I don't feel that is too much to ask.I would not buy this one again.. The length of this cord is great, as it is fairly long so I can have my phone charging while I'm on the phone.. I have had this item for some time now and have had no issues with it and would recommend it to anyone.. Received this today and tried it in my iPhone 4. It appears it works.However, the packaging it came in was a re-used ifrogz case package, said so on the back. Also know that there should have been a warranty document in the box and there was none.Hopefully it will keep working. I am contacting the shipper to see if I can get a warranty doc. All AT&T; products come with some type of limited warranty notice in the package.Good luck. This Charger works great at charging my iPhone 5 or iPad and my girlfriends iPhone 4.  It seems to charge both of them at the same time without much trouble.  Its a little slow since its charging 2 devices at the same time but it eventally does charge them both.  I'm happy with it.Highly recommended!. They appear to be official AT&T packaged - maybe liquidated? Unsure, but they are of the same quality and include the USB slot for an additional (USB) charger. Just as good as the $25 charger I got from AT&T - but for $9 :). This car charger has been great!  On a recent long trip, it allowed us to charge both of our phones at the same time, which is exactly why I bought it.  Can't say enough good things about it.. I was concerned whether this would really work -- you never know with some of the electronics items.  It works great!. I'm glad I got this one.  There's an LED that lights when this is plugged in and it has the (now old style) plug that fits 4s and earlier iOS product.  The coiled cord has retained it's elasticity over time and the USB on the back of the charger allows simultaneous charging of other accessories while charging the primary device.Solid and reliable, it's a car charger that you won't be disappointed with.. they literally gave me a broken defective charger. i thought because i was buying from the actual at&t  that i wouldn't get ripped off. i thought wrong, they gave me a charger that didn't work at all.. Very useful and gets the job done.ALSO, THERE IS ANOTHER USB ON THE WIRE!Had is for two years and I am happy to say it was worth the refurbished price of 5 dollars!. bought this for my husband to go with his new iphone. was perfect and alot cheaper than the att store. Great car charger.  I've used the kind that you plug you USB cable into and those seem to have issues or not be of good quality.This stays in my car so the 1 piece(all connected) was perfect option for me.  It is a great charger and great for the price!!Highly recommend I use my phone often and travel for work.. I have only had it a week, but so far it is awesome.  Keeps the 4S charged (as you know we are having some battery draining issues...) anyway it's high quality and works like a charm.. I'm not sure if this is really from AT&T (packaging looks fake), but it's been working for me for months.  Much less expensive than anything from the AT&T store and it works well.  I have one for each of our cars and they both work well.. Plugged in and works well. Charges fast and can charge two phones at once with the USB port. Great price compared to the ones in the store. This charger is well.  It connects to the car on the 1st try every time (as opposed to some require moving or turning them to get a contact.)  I'd buy this one again if I need another one ... I hope I don't lose this one like the last one.\""
            ]
          },
          "metadata": {
            "tags": []
          },
          "execution_count": 24
        }
      ]
    },
    {
      "cell_type": "code",
      "metadata": {
        "colab": {
          "base_uri": "https://localhost:8080/",
          "height": 35
        },
        "id": "j4evj_ATaphR",
        "outputId": "9613fb28-b4ee-4e30-adbc-03356a47f902"
      },
      "source": [
        ""
      ],
      "execution_count": null,
      "outputs": [
        {
          "output_type": "execute_result",
          "data": {
            "application/vnd.google.colaboratory.intrinsic+json": {
              "type": "string"
            },
            "text/plain": [
              "'B007XPPA28'"
            ]
          },
          "metadata": {
            "tags": []
          },
          "execution_count": 187
        }
      ]
    },
    {
      "cell_type": "code",
      "metadata": {
        "id": "W1gwGu1xjSfh"
      },
      "source": [
        "import pandas as pd\n",
        "import gzip\n",
        "\n",
        "def parse(path):\n",
        "  g = gzip.open(path, 'rb')\n",
        "  for l in g:\n",
        "    yield eval(l)\n",
        "\n",
        "def getDF(path):\n",
        "  i = 0\n",
        "  df = {}\n",
        "  for d in parse(path):\n",
        "    df[i] = d\n",
        "    i += 1\n",
        "  return pd.DataFrame.from_dict(df, orient='index')\n",
        "\n",
        "df = getDF('reviews_Cell_Phones_and_Accessories_5.json.gz')"
      ],
      "execution_count": 6,
      "outputs": []
    },
    {
      "cell_type": "code",
      "metadata": {
        "colab": {
          "base_uri": "https://localhost:8080/"
        },
        "id": "3CCkLjxcd2Gb",
        "outputId": "7300b588-97ee-4691-84d3-4db3476f71f7"
      },
      "source": [
        "from flair.data import Sentence\n",
        "sentence = Sentence(\"i am using multiple words like this here you can see multiple two times and like also two times\")\n",
        "\n",
        "# just embed a sentence using the StackedEmbedding as you would with any single embedding.\n",
        "stacked_embeddings.embed(sentence)\n",
        "\n",
        "# now check out the embedded tokens.\n",
        "for token in sentence:\n",
        "    we[token.text] = token.embedding\n",
        "    print(token)\n",
        "    print(token.embedding)"
      ],
      "execution_count": null,
      "outputs": [
        {
          "output_type": "stream",
          "text": [
            "Token: 1 i\n",
            "tensor([-4.6539e-02,  6.1966e-01,  5.6647e-01,  ...,  7.0599e-09,\n",
            "         3.4968e-08, -6.7191e-03])\n",
            "Token: 2 am\n",
            "tensor([-1.4022e-01,  2.4659e-02,  1.5813e-01,  ...,  1.1888e-09,\n",
            "         2.6776e-09, -1.9904e-01])\n",
            "Token: 3 using\n",
            "tensor([-4.6851e-01,  2.6150e-01, -3.2521e-01,  ...,  1.0679e-08,\n",
            "        -3.5290e-05, -1.0316e-01])\n",
            "Token: 4 multiple\n",
            "tensor([-1.6573e-01,  5.4371e-01, -6.2806e-01,  ...,  2.1727e-08,\n",
            "         6.4301e-09, -1.5612e-02])\n",
            "Token: 5 words\n",
            "tensor([ 7.2607e-02,  7.0889e-01,  4.2583e-01,  ...,  6.9773e-09,\n",
            "        -6.8683e-09, -8.2192e-02])\n",
            "Token: 6 like\n",
            "tensor([-2.6870e-01,  8.1708e-01,  6.9896e-01,  ...,  8.3529e-10,\n",
            "        -8.2322e-08, -5.9224e-01])\n",
            "Token: 7 this\n",
            "tensor([-5.7058e-01,  4.4183e-01,  7.0102e-01,  ...,  3.2350e-08,\n",
            "        -6.1616e-08, -3.5837e-01])\n",
            "Token: 8 here\n",
            "tensor([-4.3061e-01,  2.8297e-01,  8.0489e-01,  ...,  2.8255e-08,\n",
            "         1.8531e-05, -2.0962e-01])\n",
            "Token: 9 you\n",
            "tensor([-4.9886e-01,  7.6602e-01,  8.9751e-01,  ...,  5.7144e-10,\n",
            "         1.6196e-06,  1.9202e-01])\n",
            "Token: 10 can\n",
            "tensor([-7.1766e-01,  8.0871e-01,  3.1868e-01,  ...,  9.9934e-11,\n",
            "         7.5935e-08, -2.0404e-01])\n",
            "Token: 11 see\n",
            "tensor([-5.3849e-01,  5.5165e-01,  5.5302e-01,  ...,  1.3882e-09,\n",
            "        -1.3368e-07, -2.0265e-01])\n",
            "Token: 12 multiple\n",
            "tensor([-1.6573e-01,  5.4371e-01, -6.2806e-01,  ...,  1.1239e-08,\n",
            "         4.6279e-08,  1.0459e-02])\n",
            "Token: 13 two\n",
            "tensor([-2.0154e-01,  3.2739e-01,  4.7580e-04,  ...,  1.3178e-10,\n",
            "         4.4889e-07, -4.4061e-02])\n",
            "Token: 14 times\n",
            "tensor([-2.9740e-01,  1.3021e-01,  4.4774e-01,  ...,  1.4088e-07,\n",
            "        -3.4596e-06, -4.4536e-01])\n",
            "Token: 15 and\n",
            "tensor([-7.1953e-02,  2.3127e-01,  2.3731e-02,  ...,  1.2496e-07,\n",
            "         1.7395e-06,  1.3539e-01])\n",
            "Token: 16 like\n",
            "tensor([-2.6870e-01,  8.1708e-01,  6.9896e-01,  ...,  8.9810e-10,\n",
            "        -5.1739e-06, -1.3718e-01])\n",
            "Token: 17 also\n",
            "tensor([-3.3819e-01,  6.4568e-02, -3.2558e-02,  ...,  9.9161e-09,\n",
            "        -5.4734e-07, -9.3616e-02])\n",
            "Token: 18 two\n",
            "tensor([-2.0154e-01,  3.2739e-01,  4.7580e-04,  ...,  1.5885e-10,\n",
            "         1.6353e-07, -3.8770e-02])\n",
            "Token: 19 times\n",
            "tensor([-2.9740e-01,  1.3021e-01,  4.4774e-01,  ...,  6.7369e-08,\n",
            "        -2.1500e-06, -5.9009e-01])\n"
          ],
          "name": "stdout"
        }
      ]
    },
    {
      "cell_type": "code",
      "metadata": {
        "id": "z_-uJ59CjARh"
      },
      "source": [
        ""
      ],
      "execution_count": null,
      "outputs": []
    }
  ]
}