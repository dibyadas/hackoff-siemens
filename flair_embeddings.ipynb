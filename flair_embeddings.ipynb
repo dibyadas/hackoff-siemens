{
  "nbformat": 4,
  "nbformat_minor": 0,
  "metadata": {
    "colab": {
      "name": "flair_embeddings.ipynb",
      "provenance": [],
      "collapsed_sections": []
    },
    "kernelspec": {
      "name": "python3",
      "display_name": "Python 3"
    },
    "widgets": {
      "application/vnd.jupyter.widget-state+json": {
        "a9b0df68c0aa496eaad5b745dcd9db23": {
          "model_module": "@jupyter-widgets/controls",
          "model_name": "HBoxModel",
          "state": {
            "_view_name": "HBoxView",
            "_dom_classes": [],
            "_model_name": "HBoxModel",
            "_view_module": "@jupyter-widgets/controls",
            "_model_module_version": "1.5.0",
            "_view_count": null,
            "_view_module_version": "1.5.0",
            "box_style": "",
            "layout": "IPY_MODEL_64804f509e4e42da9554b361b9da950d",
            "_model_module": "@jupyter-widgets/controls",
            "children": [
              "IPY_MODEL_e17a985ddd944e38b935eeccd69673d6",
              "IPY_MODEL_36e0846470a54bcc8b193ed4be8e1e2a"
            ]
          }
        },
        "64804f509e4e42da9554b361b9da950d": {
          "model_module": "@jupyter-widgets/base",
          "model_name": "LayoutModel",
          "state": {
            "_view_name": "LayoutView",
            "grid_template_rows": null,
            "right": null,
            "justify_content": null,
            "_view_module": "@jupyter-widgets/base",
            "overflow": null,
            "_model_module_version": "1.2.0",
            "_view_count": null,
            "flex_flow": null,
            "width": null,
            "min_width": null,
            "border": null,
            "align_items": null,
            "bottom": null,
            "_model_module": "@jupyter-widgets/base",
            "top": null,
            "grid_column": null,
            "overflow_y": null,
            "overflow_x": null,
            "grid_auto_flow": null,
            "grid_area": null,
            "grid_template_columns": null,
            "flex": null,
            "_model_name": "LayoutModel",
            "justify_items": null,
            "grid_row": null,
            "max_height": null,
            "align_content": null,
            "visibility": null,
            "align_self": null,
            "height": null,
            "min_height": null,
            "padding": null,
            "grid_auto_rows": null,
            "grid_gap": null,
            "max_width": null,
            "order": null,
            "_view_module_version": "1.2.0",
            "grid_template_areas": null,
            "object_position": null,
            "object_fit": null,
            "grid_auto_columns": null,
            "margin": null,
            "display": null,
            "left": null
          }
        },
        "e17a985ddd944e38b935eeccd69673d6": {
          "model_module": "@jupyter-widgets/controls",
          "model_name": "FloatProgressModel",
          "state": {
            "_view_name": "ProgressView",
            "style": "IPY_MODEL_9b9df2ea86a64fe2ada252d612c7b158",
            "_dom_classes": [],
            "description": "Downloading: 100%",
            "_model_name": "FloatProgressModel",
            "bar_style": "success",
            "max": 481,
            "_view_module": "@jupyter-widgets/controls",
            "_model_module_version": "1.5.0",
            "value": 481,
            "_view_count": null,
            "_view_module_version": "1.5.0",
            "orientation": "horizontal",
            "min": 0,
            "description_tooltip": null,
            "_model_module": "@jupyter-widgets/controls",
            "layout": "IPY_MODEL_351b6ba1eefc445dbc67e56a961a47d0"
          }
        },
        "36e0846470a54bcc8b193ed4be8e1e2a": {
          "model_module": "@jupyter-widgets/controls",
          "model_name": "HTMLModel",
          "state": {
            "_view_name": "HTMLView",
            "style": "IPY_MODEL_86e2835be31546d288100bfbfdf5219f",
            "_dom_classes": [],
            "description": "",
            "_model_name": "HTMLModel",
            "placeholder": "​",
            "_view_module": "@jupyter-widgets/controls",
            "_model_module_version": "1.5.0",
            "value": " 481/481 [00:00&lt;00:00, 981B/s]",
            "_view_count": null,
            "_view_module_version": "1.5.0",
            "description_tooltip": null,
            "_model_module": "@jupyter-widgets/controls",
            "layout": "IPY_MODEL_4cefdc35ca7946e29546b54664984ff1"
          }
        },
        "9b9df2ea86a64fe2ada252d612c7b158": {
          "model_module": "@jupyter-widgets/controls",
          "model_name": "ProgressStyleModel",
          "state": {
            "_view_name": "StyleView",
            "_model_name": "ProgressStyleModel",
            "description_width": "initial",
            "_view_module": "@jupyter-widgets/base",
            "_model_module_version": "1.5.0",
            "_view_count": null,
            "_view_module_version": "1.2.0",
            "bar_color": null,
            "_model_module": "@jupyter-widgets/controls"
          }
        },
        "351b6ba1eefc445dbc67e56a961a47d0": {
          "model_module": "@jupyter-widgets/base",
          "model_name": "LayoutModel",
          "state": {
            "_view_name": "LayoutView",
            "grid_template_rows": null,
            "right": null,
            "justify_content": null,
            "_view_module": "@jupyter-widgets/base",
            "overflow": null,
            "_model_module_version": "1.2.0",
            "_view_count": null,
            "flex_flow": null,
            "width": null,
            "min_width": null,
            "border": null,
            "align_items": null,
            "bottom": null,
            "_model_module": "@jupyter-widgets/base",
            "top": null,
            "grid_column": null,
            "overflow_y": null,
            "overflow_x": null,
            "grid_auto_flow": null,
            "grid_area": null,
            "grid_template_columns": null,
            "flex": null,
            "_model_name": "LayoutModel",
            "justify_items": null,
            "grid_row": null,
            "max_height": null,
            "align_content": null,
            "visibility": null,
            "align_self": null,
            "height": null,
            "min_height": null,
            "padding": null,
            "grid_auto_rows": null,
            "grid_gap": null,
            "max_width": null,
            "order": null,
            "_view_module_version": "1.2.0",
            "grid_template_areas": null,
            "object_position": null,
            "object_fit": null,
            "grid_auto_columns": null,
            "margin": null,
            "display": null,
            "left": null
          }
        },
        "86e2835be31546d288100bfbfdf5219f": {
          "model_module": "@jupyter-widgets/controls",
          "model_name": "DescriptionStyleModel",
          "state": {
            "_view_name": "StyleView",
            "_model_name": "DescriptionStyleModel",
            "description_width": "",
            "_view_module": "@jupyter-widgets/base",
            "_model_module_version": "1.5.0",
            "_view_count": null,
            "_view_module_version": "1.2.0",
            "_model_module": "@jupyter-widgets/controls"
          }
        },
        "4cefdc35ca7946e29546b54664984ff1": {
          "model_module": "@jupyter-widgets/base",
          "model_name": "LayoutModel",
          "state": {
            "_view_name": "LayoutView",
            "grid_template_rows": null,
            "right": null,
            "justify_content": null,
            "_view_module": "@jupyter-widgets/base",
            "overflow": null,
            "_model_module_version": "1.2.0",
            "_view_count": null,
            "flex_flow": null,
            "width": null,
            "min_width": null,
            "border": null,
            "align_items": null,
            "bottom": null,
            "_model_module": "@jupyter-widgets/base",
            "top": null,
            "grid_column": null,
            "overflow_y": null,
            "overflow_x": null,
            "grid_auto_flow": null,
            "grid_area": null,
            "grid_template_columns": null,
            "flex": null,
            "_model_name": "LayoutModel",
            "justify_items": null,
            "grid_row": null,
            "max_height": null,
            "align_content": null,
            "visibility": null,
            "align_self": null,
            "height": null,
            "min_height": null,
            "padding": null,
            "grid_auto_rows": null,
            "grid_gap": null,
            "max_width": null,
            "order": null,
            "_view_module_version": "1.2.0",
            "grid_template_areas": null,
            "object_position": null,
            "object_fit": null,
            "grid_auto_columns": null,
            "margin": null,
            "display": null,
            "left": null
          }
        },
        "e9b21433042646d8bf02c8f9740a56d4": {
          "model_module": "@jupyter-widgets/controls",
          "model_name": "HBoxModel",
          "state": {
            "_view_name": "HBoxView",
            "_dom_classes": [],
            "_model_name": "HBoxModel",
            "_view_module": "@jupyter-widgets/controls",
            "_model_module_version": "1.5.0",
            "_view_count": null,
            "_view_module_version": "1.5.0",
            "box_style": "",
            "layout": "IPY_MODEL_06af85578a3b4469b59fe35fc007a423",
            "_model_module": "@jupyter-widgets/controls",
            "children": [
              "IPY_MODEL_53667d7202bd49ff9634c2336e2a9414",
              "IPY_MODEL_351ff24b6d8849edaa9d1e59aa276cd5"
            ]
          }
        },
        "06af85578a3b4469b59fe35fc007a423": {
          "model_module": "@jupyter-widgets/base",
          "model_name": "LayoutModel",
          "state": {
            "_view_name": "LayoutView",
            "grid_template_rows": null,
            "right": null,
            "justify_content": null,
            "_view_module": "@jupyter-widgets/base",
            "overflow": null,
            "_model_module_version": "1.2.0",
            "_view_count": null,
            "flex_flow": null,
            "width": null,
            "min_width": null,
            "border": null,
            "align_items": null,
            "bottom": null,
            "_model_module": "@jupyter-widgets/base",
            "top": null,
            "grid_column": null,
            "overflow_y": null,
            "overflow_x": null,
            "grid_auto_flow": null,
            "grid_area": null,
            "grid_template_columns": null,
            "flex": null,
            "_model_name": "LayoutModel",
            "justify_items": null,
            "grid_row": null,
            "max_height": null,
            "align_content": null,
            "visibility": null,
            "align_self": null,
            "height": null,
            "min_height": null,
            "padding": null,
            "grid_auto_rows": null,
            "grid_gap": null,
            "max_width": null,
            "order": null,
            "_view_module_version": "1.2.0",
            "grid_template_areas": null,
            "object_position": null,
            "object_fit": null,
            "grid_auto_columns": null,
            "margin": null,
            "display": null,
            "left": null
          }
        },
        "53667d7202bd49ff9634c2336e2a9414": {
          "model_module": "@jupyter-widgets/controls",
          "model_name": "FloatProgressModel",
          "state": {
            "_view_name": "ProgressView",
            "style": "IPY_MODEL_98e836dfcc52495e8c93e1f9012782e1",
            "_dom_classes": [],
            "description": "Downloading: 100%",
            "_model_name": "FloatProgressModel",
            "bar_style": "success",
            "max": 898823,
            "_view_module": "@jupyter-widgets/controls",
            "_model_module_version": "1.5.0",
            "value": 898823,
            "_view_count": null,
            "_view_module_version": "1.5.0",
            "orientation": "horizontal",
            "min": 0,
            "description_tooltip": null,
            "_model_module": "@jupyter-widgets/controls",
            "layout": "IPY_MODEL_33861f030acd49fcb507f3327e2de77c"
          }
        },
        "351ff24b6d8849edaa9d1e59aa276cd5": {
          "model_module": "@jupyter-widgets/controls",
          "model_name": "HTMLModel",
          "state": {
            "_view_name": "HTMLView",
            "style": "IPY_MODEL_106900fdc56f46c196b79adde1b9c3e8",
            "_dom_classes": [],
            "description": "",
            "_model_name": "HTMLModel",
            "placeholder": "​",
            "_view_module": "@jupyter-widgets/controls",
            "_model_module_version": "1.5.0",
            "value": " 899k/899k [00:01&lt;00:00, 743kB/s]",
            "_view_count": null,
            "_view_module_version": "1.5.0",
            "description_tooltip": null,
            "_model_module": "@jupyter-widgets/controls",
            "layout": "IPY_MODEL_c4cc02db7de945e6a7aea28c886f2d39"
          }
        },
        "98e836dfcc52495e8c93e1f9012782e1": {
          "model_module": "@jupyter-widgets/controls",
          "model_name": "ProgressStyleModel",
          "state": {
            "_view_name": "StyleView",
            "_model_name": "ProgressStyleModel",
            "description_width": "initial",
            "_view_module": "@jupyter-widgets/base",
            "_model_module_version": "1.5.0",
            "_view_count": null,
            "_view_module_version": "1.2.0",
            "bar_color": null,
            "_model_module": "@jupyter-widgets/controls"
          }
        },
        "33861f030acd49fcb507f3327e2de77c": {
          "model_module": "@jupyter-widgets/base",
          "model_name": "LayoutModel",
          "state": {
            "_view_name": "LayoutView",
            "grid_template_rows": null,
            "right": null,
            "justify_content": null,
            "_view_module": "@jupyter-widgets/base",
            "overflow": null,
            "_model_module_version": "1.2.0",
            "_view_count": null,
            "flex_flow": null,
            "width": null,
            "min_width": null,
            "border": null,
            "align_items": null,
            "bottom": null,
            "_model_module": "@jupyter-widgets/base",
            "top": null,
            "grid_column": null,
            "overflow_y": null,
            "overflow_x": null,
            "grid_auto_flow": null,
            "grid_area": null,
            "grid_template_columns": null,
            "flex": null,
            "_model_name": "LayoutModel",
            "justify_items": null,
            "grid_row": null,
            "max_height": null,
            "align_content": null,
            "visibility": null,
            "align_self": null,
            "height": null,
            "min_height": null,
            "padding": null,
            "grid_auto_rows": null,
            "grid_gap": null,
            "max_width": null,
            "order": null,
            "_view_module_version": "1.2.0",
            "grid_template_areas": null,
            "object_position": null,
            "object_fit": null,
            "grid_auto_columns": null,
            "margin": null,
            "display": null,
            "left": null
          }
        },
        "106900fdc56f46c196b79adde1b9c3e8": {
          "model_module": "@jupyter-widgets/controls",
          "model_name": "DescriptionStyleModel",
          "state": {
            "_view_name": "StyleView",
            "_model_name": "DescriptionStyleModel",
            "description_width": "",
            "_view_module": "@jupyter-widgets/base",
            "_model_module_version": "1.5.0",
            "_view_count": null,
            "_view_module_version": "1.2.0",
            "_model_module": "@jupyter-widgets/controls"
          }
        },
        "c4cc02db7de945e6a7aea28c886f2d39": {
          "model_module": "@jupyter-widgets/base",
          "model_name": "LayoutModel",
          "state": {
            "_view_name": "LayoutView",
            "grid_template_rows": null,
            "right": null,
            "justify_content": null,
            "_view_module": "@jupyter-widgets/base",
            "overflow": null,
            "_model_module_version": "1.2.0",
            "_view_count": null,
            "flex_flow": null,
            "width": null,
            "min_width": null,
            "border": null,
            "align_items": null,
            "bottom": null,
            "_model_module": "@jupyter-widgets/base",
            "top": null,
            "grid_column": null,
            "overflow_y": null,
            "overflow_x": null,
            "grid_auto_flow": null,
            "grid_area": null,
            "grid_template_columns": null,
            "flex": null,
            "_model_name": "LayoutModel",
            "justify_items": null,
            "grid_row": null,
            "max_height": null,
            "align_content": null,
            "visibility": null,
            "align_self": null,
            "height": null,
            "min_height": null,
            "padding": null,
            "grid_auto_rows": null,
            "grid_gap": null,
            "max_width": null,
            "order": null,
            "_view_module_version": "1.2.0",
            "grid_template_areas": null,
            "object_position": null,
            "object_fit": null,
            "grid_auto_columns": null,
            "margin": null,
            "display": null,
            "left": null
          }
        },
        "6c0b5e4eb9e5454ca0672905c1949f0d": {
          "model_module": "@jupyter-widgets/controls",
          "model_name": "HBoxModel",
          "state": {
            "_view_name": "HBoxView",
            "_dom_classes": [],
            "_model_name": "HBoxModel",
            "_view_module": "@jupyter-widgets/controls",
            "_model_module_version": "1.5.0",
            "_view_count": null,
            "_view_module_version": "1.5.0",
            "box_style": "",
            "layout": "IPY_MODEL_692f6d148d9f4b1793453c4f01337afb",
            "_model_module": "@jupyter-widgets/controls",
            "children": [
              "IPY_MODEL_626737751c6846d4bda20b54bd0b37a2",
              "IPY_MODEL_a6aad0e1510446068a42aa111dc73aa5"
            ]
          }
        },
        "692f6d148d9f4b1793453c4f01337afb": {
          "model_module": "@jupyter-widgets/base",
          "model_name": "LayoutModel",
          "state": {
            "_view_name": "LayoutView",
            "grid_template_rows": null,
            "right": null,
            "justify_content": null,
            "_view_module": "@jupyter-widgets/base",
            "overflow": null,
            "_model_module_version": "1.2.0",
            "_view_count": null,
            "flex_flow": null,
            "width": null,
            "min_width": null,
            "border": null,
            "align_items": null,
            "bottom": null,
            "_model_module": "@jupyter-widgets/base",
            "top": null,
            "grid_column": null,
            "overflow_y": null,
            "overflow_x": null,
            "grid_auto_flow": null,
            "grid_area": null,
            "grid_template_columns": null,
            "flex": null,
            "_model_name": "LayoutModel",
            "justify_items": null,
            "grid_row": null,
            "max_height": null,
            "align_content": null,
            "visibility": null,
            "align_self": null,
            "height": null,
            "min_height": null,
            "padding": null,
            "grid_auto_rows": null,
            "grid_gap": null,
            "max_width": null,
            "order": null,
            "_view_module_version": "1.2.0",
            "grid_template_areas": null,
            "object_position": null,
            "object_fit": null,
            "grid_auto_columns": null,
            "margin": null,
            "display": null,
            "left": null
          }
        },
        "626737751c6846d4bda20b54bd0b37a2": {
          "model_module": "@jupyter-widgets/controls",
          "model_name": "FloatProgressModel",
          "state": {
            "_view_name": "ProgressView",
            "style": "IPY_MODEL_651bc59727124426be15e78d1fc3c0f7",
            "_dom_classes": [],
            "description": "Downloading: 100%",
            "_model_name": "FloatProgressModel",
            "bar_style": "success",
            "max": 456318,
            "_view_module": "@jupyter-widgets/controls",
            "_model_module_version": "1.5.0",
            "value": 456318,
            "_view_count": null,
            "_view_module_version": "1.5.0",
            "orientation": "horizontal",
            "min": 0,
            "description_tooltip": null,
            "_model_module": "@jupyter-widgets/controls",
            "layout": "IPY_MODEL_9ace98089d4043ecbcb51d7f9315cabf"
          }
        },
        "a6aad0e1510446068a42aa111dc73aa5": {
          "model_module": "@jupyter-widgets/controls",
          "model_name": "HTMLModel",
          "state": {
            "_view_name": "HTMLView",
            "style": "IPY_MODEL_10fb829a47f247e8bd88de2e59ed7b27",
            "_dom_classes": [],
            "description": "",
            "_model_name": "HTMLModel",
            "placeholder": "​",
            "_view_module": "@jupyter-widgets/controls",
            "_model_module_version": "1.5.0",
            "value": " 456k/456k [00:00&lt;00:00, 1.18MB/s]",
            "_view_count": null,
            "_view_module_version": "1.5.0",
            "description_tooltip": null,
            "_model_module": "@jupyter-widgets/controls",
            "layout": "IPY_MODEL_54576cef04ae422faaed606a43a51be6"
          }
        },
        "651bc59727124426be15e78d1fc3c0f7": {
          "model_module": "@jupyter-widgets/controls",
          "model_name": "ProgressStyleModel",
          "state": {
            "_view_name": "StyleView",
            "_model_name": "ProgressStyleModel",
            "description_width": "initial",
            "_view_module": "@jupyter-widgets/base",
            "_model_module_version": "1.5.0",
            "_view_count": null,
            "_view_module_version": "1.2.0",
            "bar_color": null,
            "_model_module": "@jupyter-widgets/controls"
          }
        },
        "9ace98089d4043ecbcb51d7f9315cabf": {
          "model_module": "@jupyter-widgets/base",
          "model_name": "LayoutModel",
          "state": {
            "_view_name": "LayoutView",
            "grid_template_rows": null,
            "right": null,
            "justify_content": null,
            "_view_module": "@jupyter-widgets/base",
            "overflow": null,
            "_model_module_version": "1.2.0",
            "_view_count": null,
            "flex_flow": null,
            "width": null,
            "min_width": null,
            "border": null,
            "align_items": null,
            "bottom": null,
            "_model_module": "@jupyter-widgets/base",
            "top": null,
            "grid_column": null,
            "overflow_y": null,
            "overflow_x": null,
            "grid_auto_flow": null,
            "grid_area": null,
            "grid_template_columns": null,
            "flex": null,
            "_model_name": "LayoutModel",
            "justify_items": null,
            "grid_row": null,
            "max_height": null,
            "align_content": null,
            "visibility": null,
            "align_self": null,
            "height": null,
            "min_height": null,
            "padding": null,
            "grid_auto_rows": null,
            "grid_gap": null,
            "max_width": null,
            "order": null,
            "_view_module_version": "1.2.0",
            "grid_template_areas": null,
            "object_position": null,
            "object_fit": null,
            "grid_auto_columns": null,
            "margin": null,
            "display": null,
            "left": null
          }
        },
        "10fb829a47f247e8bd88de2e59ed7b27": {
          "model_module": "@jupyter-widgets/controls",
          "model_name": "DescriptionStyleModel",
          "state": {
            "_view_name": "StyleView",
            "_model_name": "DescriptionStyleModel",
            "description_width": "",
            "_view_module": "@jupyter-widgets/base",
            "_model_module_version": "1.5.0",
            "_view_count": null,
            "_view_module_version": "1.2.0",
            "_model_module": "@jupyter-widgets/controls"
          }
        },
        "54576cef04ae422faaed606a43a51be6": {
          "model_module": "@jupyter-widgets/base",
          "model_name": "LayoutModel",
          "state": {
            "_view_name": "LayoutView",
            "grid_template_rows": null,
            "right": null,
            "justify_content": null,
            "_view_module": "@jupyter-widgets/base",
            "overflow": null,
            "_model_module_version": "1.2.0",
            "_view_count": null,
            "flex_flow": null,
            "width": null,
            "min_width": null,
            "border": null,
            "align_items": null,
            "bottom": null,
            "_model_module": "@jupyter-widgets/base",
            "top": null,
            "grid_column": null,
            "overflow_y": null,
            "overflow_x": null,
            "grid_auto_flow": null,
            "grid_area": null,
            "grid_template_columns": null,
            "flex": null,
            "_model_name": "LayoutModel",
            "justify_items": null,
            "grid_row": null,
            "max_height": null,
            "align_content": null,
            "visibility": null,
            "align_self": null,
            "height": null,
            "min_height": null,
            "padding": null,
            "grid_auto_rows": null,
            "grid_gap": null,
            "max_width": null,
            "order": null,
            "_view_module_version": "1.2.0",
            "grid_template_areas": null,
            "object_position": null,
            "object_fit": null,
            "grid_auto_columns": null,
            "margin": null,
            "display": null,
            "left": null
          }
        },
        "6000a143886a4898991c52d511f29b18": {
          "model_module": "@jupyter-widgets/controls",
          "model_name": "HBoxModel",
          "state": {
            "_view_name": "HBoxView",
            "_dom_classes": [],
            "_model_name": "HBoxModel",
            "_view_module": "@jupyter-widgets/controls",
            "_model_module_version": "1.5.0",
            "_view_count": null,
            "_view_module_version": "1.5.0",
            "box_style": "",
            "layout": "IPY_MODEL_e9655f4ce2c548a590af6dde2095eb0c",
            "_model_module": "@jupyter-widgets/controls",
            "children": [
              "IPY_MODEL_e9cab2a5c2914f2db250bd84964edcad",
              "IPY_MODEL_172fcc50fbcd40859ce142ddc9bc26bf"
            ]
          }
        },
        "e9655f4ce2c548a590af6dde2095eb0c": {
          "model_module": "@jupyter-widgets/base",
          "model_name": "LayoutModel",
          "state": {
            "_view_name": "LayoutView",
            "grid_template_rows": null,
            "right": null,
            "justify_content": null,
            "_view_module": "@jupyter-widgets/base",
            "overflow": null,
            "_model_module_version": "1.2.0",
            "_view_count": null,
            "flex_flow": null,
            "width": null,
            "min_width": null,
            "border": null,
            "align_items": null,
            "bottom": null,
            "_model_module": "@jupyter-widgets/base",
            "top": null,
            "grid_column": null,
            "overflow_y": null,
            "overflow_x": null,
            "grid_auto_flow": null,
            "grid_area": null,
            "grid_template_columns": null,
            "flex": null,
            "_model_name": "LayoutModel",
            "justify_items": null,
            "grid_row": null,
            "max_height": null,
            "align_content": null,
            "visibility": null,
            "align_self": null,
            "height": null,
            "min_height": null,
            "padding": null,
            "grid_auto_rows": null,
            "grid_gap": null,
            "max_width": null,
            "order": null,
            "_view_module_version": "1.2.0",
            "grid_template_areas": null,
            "object_position": null,
            "object_fit": null,
            "grid_auto_columns": null,
            "margin": null,
            "display": null,
            "left": null
          }
        },
        "e9cab2a5c2914f2db250bd84964edcad": {
          "model_module": "@jupyter-widgets/controls",
          "model_name": "FloatProgressModel",
          "state": {
            "_view_name": "ProgressView",
            "style": "IPY_MODEL_8ffa53050de7471499dd0beb566f374a",
            "_dom_classes": [],
            "description": "Downloading: 100%",
            "_model_name": "FloatProgressModel",
            "bar_style": "success",
            "max": 501200538,
            "_view_module": "@jupyter-widgets/controls",
            "_model_module_version": "1.5.0",
            "value": 501200538,
            "_view_count": null,
            "_view_module_version": "1.5.0",
            "orientation": "horizontal",
            "min": 0,
            "description_tooltip": null,
            "_model_module": "@jupyter-widgets/controls",
            "layout": "IPY_MODEL_6ab3147c597944e8958a5c85810d7cfa"
          }
        },
        "172fcc50fbcd40859ce142ddc9bc26bf": {
          "model_module": "@jupyter-widgets/controls",
          "model_name": "HTMLModel",
          "state": {
            "_view_name": "HTMLView",
            "style": "IPY_MODEL_17cd1c6bb86b479ab4bfb58c3dda47c3",
            "_dom_classes": [],
            "description": "",
            "_model_name": "HTMLModel",
            "placeholder": "​",
            "_view_module": "@jupyter-widgets/controls",
            "_model_module_version": "1.5.0",
            "value": " 501M/501M [00:08&lt;00:00, 59.0MB/s]",
            "_view_count": null,
            "_view_module_version": "1.5.0",
            "description_tooltip": null,
            "_model_module": "@jupyter-widgets/controls",
            "layout": "IPY_MODEL_330f6377c58f48aaa6c565255d68ae8d"
          }
        },
        "8ffa53050de7471499dd0beb566f374a": {
          "model_module": "@jupyter-widgets/controls",
          "model_name": "ProgressStyleModel",
          "state": {
            "_view_name": "StyleView",
            "_model_name": "ProgressStyleModel",
            "description_width": "initial",
            "_view_module": "@jupyter-widgets/base",
            "_model_module_version": "1.5.0",
            "_view_count": null,
            "_view_module_version": "1.2.0",
            "bar_color": null,
            "_model_module": "@jupyter-widgets/controls"
          }
        },
        "6ab3147c597944e8958a5c85810d7cfa": {
          "model_module": "@jupyter-widgets/base",
          "model_name": "LayoutModel",
          "state": {
            "_view_name": "LayoutView",
            "grid_template_rows": null,
            "right": null,
            "justify_content": null,
            "_view_module": "@jupyter-widgets/base",
            "overflow": null,
            "_model_module_version": "1.2.0",
            "_view_count": null,
            "flex_flow": null,
            "width": null,
            "min_width": null,
            "border": null,
            "align_items": null,
            "bottom": null,
            "_model_module": "@jupyter-widgets/base",
            "top": null,
            "grid_column": null,
            "overflow_y": null,
            "overflow_x": null,
            "grid_auto_flow": null,
            "grid_area": null,
            "grid_template_columns": null,
            "flex": null,
            "_model_name": "LayoutModel",
            "justify_items": null,
            "grid_row": null,
            "max_height": null,
            "align_content": null,
            "visibility": null,
            "align_self": null,
            "height": null,
            "min_height": null,
            "padding": null,
            "grid_auto_rows": null,
            "grid_gap": null,
            "max_width": null,
            "order": null,
            "_view_module_version": "1.2.0",
            "grid_template_areas": null,
            "object_position": null,
            "object_fit": null,
            "grid_auto_columns": null,
            "margin": null,
            "display": null,
            "left": null
          }
        },
        "17cd1c6bb86b479ab4bfb58c3dda47c3": {
          "model_module": "@jupyter-widgets/controls",
          "model_name": "DescriptionStyleModel",
          "state": {
            "_view_name": "StyleView",
            "_model_name": "DescriptionStyleModel",
            "description_width": "",
            "_view_module": "@jupyter-widgets/base",
            "_model_module_version": "1.5.0",
            "_view_count": null,
            "_view_module_version": "1.2.0",
            "_model_module": "@jupyter-widgets/controls"
          }
        },
        "330f6377c58f48aaa6c565255d68ae8d": {
          "model_module": "@jupyter-widgets/base",
          "model_name": "LayoutModel",
          "state": {
            "_view_name": "LayoutView",
            "grid_template_rows": null,
            "right": null,
            "justify_content": null,
            "_view_module": "@jupyter-widgets/base",
            "overflow": null,
            "_model_module_version": "1.2.0",
            "_view_count": null,
            "flex_flow": null,
            "width": null,
            "min_width": null,
            "border": null,
            "align_items": null,
            "bottom": null,
            "_model_module": "@jupyter-widgets/base",
            "top": null,
            "grid_column": null,
            "overflow_y": null,
            "overflow_x": null,
            "grid_auto_flow": null,
            "grid_area": null,
            "grid_template_columns": null,
            "flex": null,
            "_model_name": "LayoutModel",
            "justify_items": null,
            "grid_row": null,
            "max_height": null,
            "align_content": null,
            "visibility": null,
            "align_self": null,
            "height": null,
            "min_height": null,
            "padding": null,
            "grid_auto_rows": null,
            "grid_gap": null,
            "max_width": null,
            "order": null,
            "_view_module_version": "1.2.0",
            "grid_template_areas": null,
            "object_position": null,
            "object_fit": null,
            "grid_auto_columns": null,
            "margin": null,
            "display": null,
            "left": null
          }
        }
      }
    }
  },
  "cells": [
    {
      "cell_type": "code",
      "metadata": {
        "colab": {
          "base_uri": "https://localhost:8080/"
        },
        "id": "UApR_B6ClnJI",
        "outputId": "809b32be-4f96-441b-fc8e-15494ee8b2cb"
      },
      "source": [
        "!wget http://snap.stanford.edu/data/amazon/productGraph/categoryFiles/reviews_Cell_Phones_and_Accessories_5.json.gz"
      ],
      "execution_count": null,
      "outputs": [
        {
          "output_type": "stream",
          "text": [
            "--2020-12-12 10:54:33--  http://snap.stanford.edu/data/amazon/productGraph/categoryFiles/reviews_Cell_Phones_and_Accessories_5.json.gz\n",
            "Resolving snap.stanford.edu (snap.stanford.edu)... 171.64.75.80\n",
            "Connecting to snap.stanford.edu (snap.stanford.edu)|171.64.75.80|:80... connected.\n",
            "HTTP request sent, awaiting response... 200 OK\n",
            "Length: 45409631 (43M) [application/x-gzip]\n",
            "Saving to: ‘reviews_Cell_Phones_and_Accessories_5.json.gz’\n",
            "\n",
            "reviews_Cell_Phones 100%[===================>]  43.31M  31.9MB/s    in 1.4s    \n",
            "\n",
            "2020-12-12 10:54:35 (31.9 MB/s) - ‘reviews_Cell_Phones_and_Accessories_5.json.gz’ saved [45409631/45409631]\n",
            "\n"
          ],
          "name": "stdout"
        }
      ]
    },
    {
      "cell_type": "code",
      "metadata": {
        "id": "efyrNmeQLQ9B"
      },
      "source": [
        "!python3 -m nltk.downloader stopwords\n",
        "!python3 -m nltk.downloader universal_tagset\n",
        "!python3 -m spacy download en # download the english model"
      ],
      "execution_count": null,
      "outputs": []
    },
    {
      "cell_type": "code",
      "metadata": {
        "id": "c7RRfI4rLMmQ"
      },
      "source": [
        "!pip install git+https://github.com/boudinfl/pke.git"
      ],
      "execution_count": null,
      "outputs": []
    },
    {
      "cell_type": "code",
      "metadata": {
        "id": "XfxR3syQAujn"
      },
      "source": [
        "!pip install flair"
      ],
      "execution_count": null,
      "outputs": []
    },
    {
      "cell_type": "code",
      "metadata": {
        "id": "2MtO30SaAkye"
      },
      "source": [
        "from flair.embeddings import WordEmbeddings, FlairEmbeddings, StackedEmbeddings\n",
        "\n",
        "# create a StackedEmbedding object that combines glove and forward/backward flair embeddings\n",
        "stacked_embeddings = StackedEmbeddings([\n",
        "                                        WordEmbeddings('glove'),\n",
        "                                        FlairEmbeddings('news-forward'),\n",
        "                                        FlairEmbeddings('news-backward'),\n",
        "                                       ])"
      ],
      "execution_count": null,
      "outputs": []
    },
    {
      "cell_type": "code",
      "metadata": {
        "id": "aZO88t59jcR_"
      },
      "source": [
        "we = {}"
      ],
      "execution_count": 218,
      "outputs": []
    },
    {
      "cell_type": "code",
      "metadata": {
        "id": "JUzeGWBJAn6I"
      },
      "source": [
        "from flair.data import Sentence\n",
        "sentence = Sentence(s)\n",
        "\n",
        "# just embed a sentence using the StackedEmbedding as you would with any single embedding.\n",
        "stacked_embeddings.embed(sentence)\n",
        "\n",
        "# now check out the embedded tokens.\n",
        "for token in sentence:\n",
        "    we[token.text] = token.embedding\n",
        "    # print(token)\n",
        "    # print(token.embedding)"
      ],
      "execution_count": 219,
      "outputs": []
    },
    {
      "cell_type": "code",
      "metadata": {
        "id": "XZH6Wt9Eo2Io"
      },
      "source": [
        "with open('some.txt', 'r') as f:\n",
        "    s = f.read()"
      ],
      "execution_count": 217,
      "outputs": []
    },
    {
      "cell_type": "code",
      "metadata": {
        "id": "znNsJeAvNjDj"
      },
      "source": [
        "import pke\n",
        "\n",
        "# define the valid Part-of-Speeches to occur in the graph\n",
        "pos = {'NOUN', 'PROPN', 'ADJ'}\n",
        "\n",
        "# define the grammar for selecting the keyphrase candidates\n",
        "grammar = \"NP: {<ADJ>*<NOUN|PROPN>+}\"\n",
        "\n",
        "# 1. create a PositionRank extractor.\n",
        "extractor = pke.unsupervised.PositionRank()\n",
        "\n",
        "# 2. load the content of the document.\n",
        "extractor.load_document(input='some.txt',\n",
        "                        language='en',\n",
        "                        normalization=None)\n",
        "\n",
        "# 3. select the noun phrases up to 3 words as keyphrase candidates.\n",
        "extractor.candidate_selection(grammar=grammar,\n",
        "                              maximum_word_number=3)\n",
        "\n",
        "# 4. weight the candidates using the sum of their word's scores that are\n",
        "#    computed using random walk biaised with the position of the words\n",
        "#    in the document. In the graph, nodes are words (nouns and\n",
        "#    adjectives only) that are connected if they occur in a window of\n",
        "#    10 words.\n",
        "extractor.candidate_weighting(window=10,\n",
        "                              pos=pos)\n",
        "\n",
        "# 5. get the 10-highest scored candidates as keyphrases\n",
        "keyphrases = extractor.get_n_best(n=20)"
      ],
      "execution_count": 235,
      "outputs": []
    },
    {
      "cell_type": "code",
      "metadata": {
        "colab": {
          "base_uri": "https://localhost:8080/"
        },
        "id": "y8ZmLZJKOuwd",
        "outputId": "35a50d9e-e7c0-436f-b6cc-8da41c13ff53"
      },
      "source": [
        "keyphrases"
      ],
      "execution_count": 236,
      "outputs": [
        {
          "output_type": "execute_result",
          "data": {
            "text/plain": [
              "[('nokia n95', 0.06092104863457341),\n",
              " ('gb phone', 0.05412068928870925),\n",
              " ('symbian phone os', 0.04900936897837181),\n",
              " ('other phone', 0.04866889217405842),\n",
              " ('screen phone', 0.048422256970365785),\n",
              " ('symbian s60 phone', 0.04750457766834135),\n",
              " ('andoff speaker phone', 0.046174640038317435),\n",
              " ('excellent phone', 0.04375042522100936),\n",
              " ('good phone', 0.04286974393460123),\n",
              " ('smart phone', 0.04178830538210883),\n",
              " ('cell phone towers', 0.0416999588411568),\n",
              " ('phone orientation', 0.04138319162742759),\n",
              " ('end phone', 0.040926074439931605),\n",
              " ('phone', 0.04040566309507548),\n",
              " ('n95 nam', 0.038142730814062095),\n",
              " ('n95 vga', 0.03687641064014312),\n",
              " ('original n95', 0.036875806449055824),\n",
              " ('vivid n95', 0.036148295563029294),\n",
              " ('n95', 0.03557082701429333),\n",
              " ('other nokia phones==========================since', 0.034480141407807925)]"
            ]
          },
          "metadata": {
            "tags": []
          },
          "execution_count": 236
        }
      ]
    },
    {
      "cell_type": "code",
      "metadata": {
        "colab": {
          "base_uri": "https://localhost:8080/"
        },
        "id": "7nsGKIKjsinW",
        "outputId": "17a50bc7-7bfa-400c-c4c8-7f2e03e44aaa"
      },
      "source": [
        "we['great'].numpy().shape"
      ],
      "execution_count": 220,
      "outputs": [
        {
          "output_type": "execute_result",
          "data": {
            "text/plain": [
              "(4196,)"
            ]
          },
          "metadata": {
            "tags": []
          },
          "execution_count": 220
        }
      ]
    },
    {
      "cell_type": "code",
      "metadata": {
        "id": "HuoWReSnjTYf"
      },
      "source": [
        "import torch\n",
        "def get_mean_emb(phrase):\n",
        "    ws = phrase.split(\" \")\n",
        "    vect = torch.zeros(4196)\n",
        "    c = 1\n",
        "    for i in ws:\n",
        "        try:\n",
        "            vect += we[i]\n",
        "            c += 1\n",
        "        except KeyError:\n",
        "            pass\n",
        "    return (vect/c).numpy()"
      ],
      "execution_count": 221,
      "outputs": []
    },
    {
      "cell_type": "code",
      "metadata": {
        "id": "msiCclXArILj",
        "colab": {
          "base_uri": "https://localhost:8080/"
        },
        "outputId": "2f834eff-01cd-4cd8-861a-6efa81d25b77"
      },
      "source": [
        "from sklearn.cluster import KMeans\n",
        "import numpy as np\n",
        "X = np.array([   get_mean_emb(i) for i,j in keyphrases   ])\n",
        "\n",
        "kmeans = KMeans(n_clusters=8, random_state=0).fit(X)\n",
        "kmeans.labels_\n",
        "# kmeans.cluster_centers_"
      ],
      "execution_count": 222,
      "outputs": [
        {
          "output_type": "execute_result",
          "data": {
            "text/plain": [
              "array([5, 5, 2, 1, 1, 2, 1, 1, 1, 1, 1, 3, 0, 4, 3, 2, 2, 7, 3, 6],\n",
              "      dtype=int32)"
            ]
          },
          "metadata": {
            "tags": []
          },
          "execution_count": 222
        }
      ]
    },
    {
      "cell_type": "code",
      "metadata": {
        "id": "NIT0KlQnrIIo"
      },
      "source": [
        "p = np.array(keyphrases)"
      ],
      "execution_count": 223,
      "outputs": []
    },
    {
      "cell_type": "code",
      "metadata": {
        "id": "3M9afr_TrIEG",
        "colab": {
          "base_uri": "https://localhost:8080/"
        },
        "outputId": "6b975f5b-eb1b-47a1-f378-4eae02f2f2a3"
      },
      "source": [
        "for i in range(10):\n",
        "    print(p[kmeans.labels_ == i])\n",
        "    print(\"  \")"
      ],
      "execution_count": 224,
      "outputs": [
        {
          "output_type": "stream",
          "text": [
            "[['phone end' '0.04080380660812189']]\n",
            "  \n",
            "[['long cord' '0.05929613746987916']\n",
            " ['longer cord' '0.05445652337418146']\n",
            " ['usual cord' '0.04696344713663413']\n",
            " ['shorter cord' '0.04671614980877882']\n",
            " ['generic cord' '0.045806561723050476']\n",
            " ['cord break' '0.04534207223378428']\n",
            " ['cord' '0.043751269015709235']]\n",
            "  \n",
            "[['iphone cable' '0.06551509301320887']\n",
            " ['long iphone' '0.05037817301828792']\n",
            " ['older iphone' '0.03652705073786119']\n",
            " ['iphone' '0.03483330456411799']]\n",
            "  \n",
            "[['longer cable' '0.04138704280756311']\n",
            " ['oem apple cable' '0.03712914610527167']\n",
            " ['sync cable' '0.032498264040691734']]\n",
            "  \n",
            "[['ipad' '0.03808949425186152']]\n",
            "  \n",
            "[['cable works' '0.1031432772035251']\n",
            " ['works' '0.07246148875443421']]\n",
            "  \n",
            "[['2nd gen ipod' '0.03249678586160086']]\n",
            "  \n",
            "[['ipod touch' '0.03451572354825621']]\n",
            "  \n",
            "[]\n",
            "  \n",
            "[]\n",
            "  \n"
          ],
          "name": "stdout"
        }
      ]
    },
    {
      "cell_type": "code",
      "metadata": {
        "id": "ADPI5Be8rH97"
      },
      "source": [
        ""
      ],
      "execution_count": null,
      "outputs": []
    },
    {
      "cell_type": "code",
      "metadata": {
        "id": "JMpK7t9grHyF"
      },
      "source": [
        ""
      ],
      "execution_count": null,
      "outputs": []
    },
    {
      "cell_type": "code",
      "metadata": {
        "id": "rvG_LOKfrHhX"
      },
      "source": [
        ""
      ],
      "execution_count": null,
      "outputs": []
    },
    {
      "cell_type": "code",
      "metadata": {
        "id": "EdjXU0KojTJa"
      },
      "source": [
        ""
      ],
      "execution_count": null,
      "outputs": []
    },
    {
      "cell_type": "code",
      "metadata": {
        "colab": {
          "base_uri": "https://localhost:8080/",
          "height": 52
        },
        "id": "eq4MXeGcwyYB",
        "outputId": "650f1c58-c870-4bb5-bcba-e0dabc0b622a"
      },
      "source": [
        "\"Over the years, my household has tried multiple Bluetooth solutions for our hands-free communications needs. We\\'ve had acceptable results from a solution integrated into GPS...but much of our regular driving doesn\\'t include the need to load up a full-size GPS. We\\'ve\".replace(\"\\'\", \"'\")"
      ],
      "execution_count": 170,
      "outputs": [
        {
          "output_type": "execute_result",
          "data": {
            "application/vnd.google.colaboratory.intrinsic+json": {
              "type": "string"
            },
            "text/plain": [
              "\"Over the years, my household has tried multiple Bluetooth solutions for our hands-free communications needs. We've had acceptable results from a solution integrated into GPS...but much of our regular driving doesn't include the need to load up a full-size GPS. We've\""
            ]
          },
          "metadata": {
            "tags": []
          },
          "execution_count": 170
        }
      ]
    },
    {
      "cell_type": "code",
      "metadata": {
        "colab": {
          "base_uri": "https://localhost:8080/",
          "height": 1000
        },
        "id": "PpCA_9KPjS_0",
        "outputId": "7c6cba5c-e44e-4cfb-8e4f-339914e0529a"
      },
      "source": [
        "myString = \". \".join(df[df['asin'] == \"B0014KLFN6\"]['reviewText'])\n",
        "with open('some.txt','w') as f:\n",
        "    f.write(myString)\n",
        "myString"
      ],
      "execution_count": 234,
      "outputs": [
        {
          "output_type": "execute_result",
          "data": {
            "application/vnd.google.colaboratory.intrinsic+json": {
              "type": "string"
            },
            "text/plain": [
              "'I am very happy with my Nokia N95 8GB phone.As the title says MORE THEN I EXPECTED!I would like to take a moment to thank Amazon forquick and courteous service.OK. My review...First of all the phone itself is excellent. both on andoff speaker phone. It is loud and clear. sometimes evenbetter quality then a land line.Second is the music and video players. The player thatcomes with the phone is great but, if you want morediversity with different codec\\'s try Core video player.You can find it on most symbian forums.People compare this phone to the iphone and, thats fine.I\\'ve owned both now and, have to say that there aremore application and other items you can get on the N95then the iphone...and as far as I\\'m concerned the callquality is so much better with the Nokia.On a scale of 1 to 10 I would rate this phone a solid 9 becauseof it\\'s quirks. Being able to charge via usb is one and, withmost smart phone an occasional unscheduled reboot.But, even with it\\'s minor drawbacks its a phone I use in manyways everyday and, will continue in the future.Thank You. I\\'ve been using the phone for over two months. Thanks to its 400MHZ processor, the phone\\'s capable of many tasks. I install Garmin GPS on it with the latest North American 2009 map. I can now find satellite within 10 seconds with the pad slided up. The Nokia-Garmin bundle works perfectly driving around and this\\'s almost like a dream only 5 years ago. Be aware that there\\'s no way the CMOS camera can take equivalent pictures as CCD camera, even with the Carl Zeiss lens. The video shooting is amazingly fine though. Some people complain about no camera cover compared to older versions, but I\\'ve found absolutely fine with the glass protection. I haven\\'t got a single scratch on it and I assume it\\'s hard material. The symbian operate system provide extremely flexible expandability that you can almost treat it as a palm computer.Pros: great GPS hardware, very loud speaker with decent music sound, acceptable camera, good battery life (w/o GPS turning on), nice audio and video playbackCons: the front pad looks a little cheapIn all, this is a great great little gadget for cellphile. It\\'s the assemble of functionality you can ever imagine.. this phone has everything. the only problem I have is that it\\'s just too bulky. I loved all the features of my N95, although the screen was really too small for internet browsing.  Then, after only a few months of normal use, my Nokia N95 began having video problems.  The video would go dark, or display upside down and backwards, or show half the screen and half snow, with the visible half reversed. It would fail for a few hours, then magically resume normal operation. Sometimes powering it down repeatedly would bring it back to life, but without a screen, it\\'s very difficult to operate.  Warranty repairs, with shipping, equaled the cost of a new iPhone.  Never again will I spend so much money for a phone with moving parts.. Beware that this is lengthy!  I figure that if you consider spending several hundred dollars on a phone, the more information the better. :)The first thing to get straight about this phone is that it is not about form, but function.  It is not the slimmest or sexiest phone out there, nor does it have the most awe-inspiring user interface compared to the likes of the iPhone.  On the other hand, it has every capability that you will find on any phone these days:* A 5MP camera with autofocus, LED flash, and VGA video recording, Carl Zeiss lens, and a 1/2.5\" CCD (same as in most compact digital cameras).  Various shooting modes (macro, night, night portrait, sports, etc...), ISO control, flash control w/red-eye reduction.  Immediately send pictures via bluetooth, email, MMS, etc.* GPS with Nokia Maps application and optional voice navigation.  Various third party applications (e.g. Google Maps for S60) support its built-in GPS as well.* 3.5G (HSDPA) connectivity (see note about models below), This gives clearer voice and much faster data downloads (theoretically up to 3.5 Mbps; in practice I have seen from 900 Kbps to about 2.2 Mbps, depending on location and time of day).* WiFi (802.11g) with WEP, WPA/WPA2, and EAP/802.1x authentication (for corporate environments)* Support for nearly every Bluetooh profile in existence: A2DP for stereo audio, DUN for tethering the phone\\'s internet connection with a laptop (for on-the road use), OBEX to send/receive files and browse the internal filesystem from a computer.* 3.5mm headset jack, infrared port w/send/receive utility, FM tuner.* \"Dual slider\" design: Slide display up to reveal numeric keypad; and down to reveal four multimedia buttons (Play/Pause, stop, rewind, fast forward).  Sliding it down also changes the display orientation from portrait to landscape; sliding it up switches it back.* Symbian S60 smartphone OS: In addition to thousands of available generic Java (J2ME) mobile applications, there are also nearly an equal number of native applications that can access additional functionality/hardware on the phone (for instance, there is one that uses the built-in accelerometer to control your computer\\'s mouse cursor by simply tilting the phone, and another one that uses the built-in GPS to \"geotag\" pictures with your location as you use the camera).* Built-in applictions include QuickOffice to read Microsoft Office files (DOC, PPT, XLS), Adobe Acrobat Lite reader (PDF), RealPlayer (most media files/streams), home screen \"Search\" applet to search the Internet and local content, various organizer apps (clock w/unlimited alarms, phonebook with unlimited entries, calendar w/unlimited meetings, todos, memos, reminders..), calculator, unit converter -- you get the picture.  Notably absent, though, is a Timer/Stopwatch application; however you can easily download a third party one (e.g. from Smartphoneware).* Other S60-specific applications include Nokia\\'s Internet Radio to stream live radio streams, \"RotateMe\" to automatically rotate the screen depending on your phone orientation, \"Fring\" mobile Skype/AIM/MSN/Google Talk/etc.. client, Google Maps with GPS support, Google home screen search applet, Mobile Weather app, \"ExtGPS\" to share the internal GPS information over bluetooth (e.g. to theNokia N800 Internet Tablet), YouTube player, emTube (also for YouTube access), etc.* One of the best mobile web browsers out there.  Based on AppleWebKit (a.k.a. KTML, the web engine used in the likes of Apple Safari and KDE Konqueror), it renders web pages \"as they were meant to be\".  And unlike that other phone that claims to do the same, the N95 also has a built-in Flash Lite player - so web pages that use flash will work as well.  Plus, you are of course free to download and use other browsers, such as the excellent, super-fast and bandwidth-saving Opera Mini (operamini.com).* Mail client with POP-3 and IMAP support (including IMAP-IDLE, a.k.a. \"push mail\"; alternatively it can poll at specified intervals).* Mac OS X users: Although the phone does not come with bundled software for Mac OS X, you can download \"Nokia Multimedia Transfer\" (to synchronize photos and music with iPhoto and iTunes) and an iSync plugin (to synchronize the address book, calendar, todo etc) with your Mac - both from Nokia\\'s web site.  Also, setting up your Mac to access the Internet via the phone (providing that you have a data plan, e.g. the $15/month \"MEdia Net Unlimited\" from AT&T;) is super-easy: When you first pair with the phone, the needed WAP/APN information is pulled automatically from your Phone\\'s SIM card.  (Ironically, this works for nearly every phone, except Apple\\'s own iPhone; this one has a very crippled bluetooth stack, and does also not support tethering).  UPDATE: I\\'ve learned that such tethering violates AT&T;\\'s Terms of Service.  Moreover, there are no  plans available for this phone (or most others) from AT&T; that specifically allow tethering.  If you do so anyway, stay under the radar, and don\\'t abuse it - e.g. by using your cellular data plan as your main internet service.MODELS:=======There are 5 subflavors of the N95 released to date:* The original N95 (a.k.a. N95-1, a.k.a. RM-159) targeted mainly the European and Asian markets; while it had quad-band GSM (2G) support for use in nearly every country, including the USA, it had support only for the international W-CDMA (UMTS/HSDPA, a.k.a. 3G/3.5G) frequency (commonly referred to as UMTS-2100).  Nonetheless, this phone was later made available for retail in the USA as well, through Nokia\\'s flagship stores, online site, and 3rd party retailers.  It had manual shutter lens protection (you would slide it open to start the camera), 64MB of runtime/dynamic memory (RAM), and a 900 mAh battery.  Common complaints about this phone was that it would often run out of memory when several applications were open, and that the battery life was too short.* The N95-2 (a.k.a. \"N95 8GB\", a.k.a. RM-320) increased the screen size from 2.6\" to 2.8\" (diagonal), increased RAM from 64MB to 128MB, increased the battery size from 900 mAh to 1200 mAh, removed the slider mechanism for opening the camera lens, replaced the SDHC card slot with 8GB of internal flash, and replaced the silver faceplate with an all-black design.  However, the bands supported were the same: W-CDMA 2100MHz, GSM 850/900/1800/1900 MHz - so although it will work fine with both AT&T; Wireless, T-Mobile USA and Rogers, it does not support 3G/3.5G network speeds in North America.  Nonetheless, as with the N95-1, Nokia has sold this phone in North America as well until just a few weeks ago; so possibly, this is the phone sold here (Unfortunately, Nokia\\'s own sales channels do not normally make this distinction, and Amazon\\'s product description is also somewhat lacking).  UPDATE: As the product description now clearly says, this is the N95-4 (a.k.a. N95 8GB NAM) model.* The N95-3 (a.k.a. \"N95 NAM\", RM-160) is the first model targeted for North America.  Most of the exterior design is similar to the N95-1 (Silver faceplate, 2.6\" screen, SDHC slot), but like the N95-2, it has 128MB of RAM, a 1200 mAh battery, and no manual slider for the camera shutter.  The main reason for its existence is that it swapped the original UMTS-2100 (WCDMA) frequency for UMTS-850 and UMTS-1900, so that it would work with AT&T; Wireless\\'s 3G/3.5G network.  Until just a few days/weeks ago, this would have been the \"best\" choice for US customers.* The N95-4 (a.k.a. \"N95 8GB NAM\", RM-421) is identical to the N95-2, except that like the N95-3, it swaps UMTS-2100 for UMTS-850/1900.  It was released just a couple of weeks ago, though, so if Amazon got their inventory of \"n95 8gb\" devices from Nokia prior to this, it would have been the N95-2 rather than the N95-4.  (The exterior and labeling of both is the same).  Also, the firmware revision numbers are different, so some utilities (like the \"Nokia Multimedia Transfer\" application and iSync plugin for Mac OS X) do not yet recognize this phone. UPDATE: The N95-4 is now fully supported by most applications, including Nokia Multimeda Transfer and iSync plugin.* The N95-5 is for Japan; it is a stripped-down version of the N95-1 (e.g. no WiFi). UPDATE: As someone commented below, it is actually for China.COMPARED WITH OTHER PHONES:==========================N95 vs. iPhone==============This is almost an irrational comparison, given how different these devices are:* The iPhone is almost entirely about \"sex appeal\": Polished, slim, with a large screen for viewing content, multi-touch user interface (we\\'ve all seen how to zoom in and out using finger pinches, do inertial scrolling through a list of contacts, etc).  As such, it is very big on \"usability\".  The N95 is not even a touch-screen device.  (Personally I actually prefer \"hard\" keys w/tactile feedback; having used the touch-screen based Motorola A1200 MING in the past.  Touch screens are not very good for, for example, dialing a number without looking at the screen).* The iPhone feature set is, at best, mediocre.  Yes, it has WiFi - so does a lot of other phones.  Yes, it has a \"WYSIWYG\" web browser; again, so do so many others (including the 3-year oldMotorola A1200 MING, another touch-screen phone by the way).  However, it lacks: 3G support, GPS, Infrared, FM Radio, decent camera functionality (no flash, video recording, etc), 3rd party application support (e.g. no Internet Radio, GPS navigation, etc), or even a usable Bluetooth stack (to do silly little things like transfer files or enable internet access for a nearby laptop while on the road).  Even the otherwise crappy Motorola RAZR line (e.g. RAZR v3xx) do most of these things. UPDATE: With the release of the iPhone 3G and the new App Store, Apple has come a long way.  It\\'s worth pointing out though that the iPhone can still not run standard J2ME/MIDP mobile applications, only those released specifically for the iPhone through the App store.  Per the Apple Terms of Service, this means: No 3rd party web browser (e.g. Opera Mini), no voice navigation, not even something along the lines of Nokia Sports Tracker (since it uses the GPS).* The iPhone is only available with a 2-year contract from AT&T; the N95 is only available SIM-free (unlocked).In short: The iPhone is about form, the N95 (and Symbian devices in general) about function.N95 vs.Sony Ericsson K850i===========================These are the only two 5MP camera phones available for the US market.  Neither of them is offered by a carrier (AT&T;, T-Mobile, Cellular One, Rogers...), so in both cases you will pay the full price for the phone.  (The upside, of course, is that you will not need to renew your contract to get it.. :)Also, both phones (in the case of the N95, some flavors of it) support the U.S. 3G bands, in addition to being quad-band GSM phones.  The difference here is that the k850i supports all four GSM bands and all three UMTS bands at the same time, so you don\\'t have to pick a \"US\" vs. \"International\" flavor.  Finally, both phones have built-in FM tuners - though the k850i also supports RDM to display programming information transmitted in the broadcast.Most comparisons of these phones therefore center around the camera functionality (e.g. PhoneArena.com, GSMArena.com, and Mobile-Review.Com all have head-to-head comparison reviews of the two).  In summary: As far as camera phones go, these are as good as you get; they are both comparable to mid-range pocket cameras.  The k850i has an advantage indoors, because it has a real Xenon flash in addition to the LED autofocus assist beam.  However, in general, it has more \"washed out\" color reproduction than the more vivid N95; and it only supports video recording in QVGA (320x240) resolution compared to the N95 VGA (640x480).The main difference between the phones lie in other areas. The N95 is a Symbian smartphone, and so can run a whole slew of native applications specifically written for this platform, while the k850i is limited to running generic Java (j2me) mobile applictions.  Also, the k850i does not have a built-in GPS (but using an external bluetooth GPS receiver together with free GPS navigation software such as AmazeGPS, you can get voice navigation on this phone as well).  The Java version of Google Maps (which is what you would use on the k850i) has a \"My Location\" feature that uses information from cell phone towers to pinpoint ROUGHLY where you are, within a couple of miles; similar to the iPhone.  Various other limits exist in the k850i as well (1000 phonebook entries, 5 alarms, etc..)On the other hand, the k850i does have a few built-in applications that are notably absent from the N95: A flashlight application (uses the LED autofocus beam), mouse/keyboard emulation to control your bluetooth-enabled computer (e.g. for presentation), and a stopwatch/timer app.One last thing to note about the K850i:  Although it uniquely supports both U.S. and International 3G frequencies, its use on the AT&T; wireless network is sub-optimal.  That\\'s because there is an interoperability issue with its built-in media player and the MEdiaNet configuration - so streaming internet videos (e.g. from YouTube) does not work.  This was the single most important reason why I ended up returning my k850i to the local store where I bought it, after having had it for about 2 weeks.N95 vs. the Samsung G810========================The Samsung G810 was announced at the Mobile World Congress in Barcelona in February; it is another Symbian S60 phone with a feature set almost identical to the N95.  It will be sold internationally starting this fall; probably not in the U.S. though -- it is lacking the GSM 850 MHz frequency used here. (In other words, it is only a \"tri-band\" phone).  Maybe they plan on releasing a US version as well - I guess that depends on whether a carrier picks it up or not.Other than that, for better or worse the G810 has a 3x optical zoom. \"Worse\" because that inevitably leads to compromises in the optics (the thickness of the phone is the same, so that must mean that the CCD sensor is smaller - meaning more noise).  On the upside, it does have Xenon flash and a protective lens cap.Early available specs also indicate that it will have 96MB of RAM - midway between the N95-1 and subsequent N95s; however, the RAM will be split up into a 32MB chunk for the DSP (GSM and W-CDMA radios) and 64MB for the Symbian phone OS/functionality.  Thus, this could become an issue.For now, anther Samsung, the G600, although not available for sale in the US, seems to have a better camera (in some reviews outperforming the N95 and k850i), as well as quad-band GSM support.  (It is otherwise a low-end phone though, without e.g. 3G).UPDATE: Other Nokia Phones==========================Since the N95, several other N-series and E-series phones have been released by Nokia with very similar feature sets.  For instance, the N82, which features a full Xenon flash, and thus doubles nicely as a pocket camera also for indoor use (though the only version available does not support North American 3G bands, just like the N95-1 and N95-2).UPDATE Dec 1, 2008: The N95 now has a couple of worthy successors, each of which improve on its feature set in different ways: TheN85and theN96.  Personally, I\\'ll stick to the N95 8GB though (see my N85 review to see why).. ok look...i LOVE NOKIA. all the reviews have said great things. however on day two of ownership my LCD screen will not come on. the phone is on but it will not come on. this to me is a bad omen and i have to return it and not for replacement. im sorry. take this review for what its worth. for me i just am leary now of the model. on the plus side. yes... its really packed full of features....however i do admit that keypad is a bit on the small side. for me.... its definately loud and the graphics are pretty...i will admit that it isnt always the smoothest as it transiitons from menu to menu. i did get to download ngage games and that was kewl. and the gps was neat but keep in mind you do need a data plan of sorts in order to use it...i thought you didnt either way i didnt have anytime to figure it out before it died this morning. for this amount of money and with no tech support from my tmobile since its unlocked i simply can not take the risk nor do i want to mess with nokia usa warranty. i really wanted to love this phone...really! i think i will look at the e71 im sorry for having to post this review...i hope it was just a one fluck with my unit.in closing...it is a good phone...but i think its a bit quirky and for me...i didnt consider it an excellent phone...in fact...my nokia 6131 worked better...sorry for the bad review...'"
            ]
          },
          "metadata": {
            "tags": []
          },
          "execution_count": 234
        }
      ]
    },
    {
      "cell_type": "code",
      "metadata": {
        "colab": {
          "base_uri": "https://localhost:8080/",
          "height": 35
        },
        "id": "4EvPaKiijS2b",
        "outputId": "c330e197-d08d-4fcb-9a6e-219c251f1086"
      },
      "source": [
        "df['asin'].unique()[334]"
      ],
      "execution_count": 233,
      "outputs": [
        {
          "output_type": "execute_result",
          "data": {
            "application/vnd.google.colaboratory.intrinsic+json": {
              "type": "string"
            },
            "text/plain": [
              "'B0014KLFN6'"
            ]
          },
          "metadata": {
            "tags": []
          },
          "execution_count": 233
        }
      ]
    },
    {
      "cell_type": "code",
      "metadata": {
        "id": "W1gwGu1xjSfh"
      },
      "source": [
        "import pandas as pd\n",
        "import gzip\n",
        "\n",
        "def parse(path):\n",
        "  g = gzip.open(path, 'rb')\n",
        "  for l in g:\n",
        "    yield eval(l)\n",
        "\n",
        "def getDF(path):\n",
        "  i = 0\n",
        "  df = {}\n",
        "  for d in parse(path):\n",
        "    df[i] = d\n",
        "    i += 1\n",
        "  return pd.DataFrame.from_dict(df, orient='index')\n",
        "\n",
        "df = getDF('reviews_Cell_Phones_and_Accessories_5.json.gz')"
      ],
      "execution_count": null,
      "outputs": []
    },
    {
      "cell_type": "code",
      "metadata": {
        "colab": {
          "base_uri": "https://localhost:8080/",
          "height": 232,
          "referenced_widgets": [
            "a9b0df68c0aa496eaad5b745dcd9db23",
            "64804f509e4e42da9554b361b9da950d",
            "e17a985ddd944e38b935eeccd69673d6",
            "36e0846470a54bcc8b193ed4be8e1e2a",
            "9b9df2ea86a64fe2ada252d612c7b158",
            "351b6ba1eefc445dbc67e56a961a47d0",
            "86e2835be31546d288100bfbfdf5219f",
            "4cefdc35ca7946e29546b54664984ff1",
            "e9b21433042646d8bf02c8f9740a56d4",
            "06af85578a3b4469b59fe35fc007a423",
            "53667d7202bd49ff9634c2336e2a9414",
            "351ff24b6d8849edaa9d1e59aa276cd5",
            "98e836dfcc52495e8c93e1f9012782e1",
            "33861f030acd49fcb507f3327e2de77c",
            "106900fdc56f46c196b79adde1b9c3e8",
            "c4cc02db7de945e6a7aea28c886f2d39",
            "6c0b5e4eb9e5454ca0672905c1949f0d",
            "692f6d148d9f4b1793453c4f01337afb",
            "626737751c6846d4bda20b54bd0b37a2",
            "a6aad0e1510446068a42aa111dc73aa5",
            "651bc59727124426be15e78d1fc3c0f7",
            "9ace98089d4043ecbcb51d7f9315cabf",
            "10fb829a47f247e8bd88de2e59ed7b27",
            "54576cef04ae422faaed606a43a51be6",
            "6000a143886a4898991c52d511f29b18",
            "e9655f4ce2c548a590af6dde2095eb0c",
            "e9cab2a5c2914f2db250bd84964edcad",
            "172fcc50fbcd40859ce142ddc9bc26bf",
            "8ffa53050de7471499dd0beb566f374a",
            "6ab3147c597944e8958a5c85810d7cfa",
            "17cd1c6bb86b479ab4bfb58c3dda47c3",
            "330f6377c58f48aaa6c565255d68ae8d"
          ]
        },
        "id": "3CCkLjxcd2Gb",
        "outputId": "291a9901-110a-4470-ae06-b24246bf55d0"
      },
      "source": [
        "from flair.embeddings import TransformerDocumentEmbeddings\n",
        "\n",
        "# init embedding\n",
        "embedding = TransformerDocumentEmbeddings('roberta-base')\n",
        "\n",
        "# create a sentence\n",
        "sentence = Sentence('The grass is green .')\n",
        "\n",
        "# embed the sentence\n",
        "embedding.embed(sentence)"
      ],
      "execution_count": null,
      "outputs": [
        {
          "output_type": "display_data",
          "data": {
            "application/vnd.jupyter.widget-view+json": {
              "model_id": "a9b0df68c0aa496eaad5b745dcd9db23",
              "version_minor": 0,
              "version_major": 2
            },
            "text/plain": [
              "HBox(children=(FloatProgress(value=0.0, description='Downloading', max=481.0, style=ProgressStyle(description_…"
            ]
          },
          "metadata": {
            "tags": []
          }
        },
        {
          "output_type": "stream",
          "text": [
            "\n"
          ],
          "name": "stdout"
        },
        {
          "output_type": "display_data",
          "data": {
            "application/vnd.jupyter.widget-view+json": {
              "model_id": "e9b21433042646d8bf02c8f9740a56d4",
              "version_minor": 0,
              "version_major": 2
            },
            "text/plain": [
              "HBox(children=(FloatProgress(value=0.0, description='Downloading', max=898823.0, style=ProgressStyle(descripti…"
            ]
          },
          "metadata": {
            "tags": []
          }
        },
        {
          "output_type": "stream",
          "text": [
            "\n"
          ],
          "name": "stdout"
        },
        {
          "output_type": "display_data",
          "data": {
            "application/vnd.jupyter.widget-view+json": {
              "model_id": "6c0b5e4eb9e5454ca0672905c1949f0d",
              "version_minor": 0,
              "version_major": 2
            },
            "text/plain": [
              "HBox(children=(FloatProgress(value=0.0, description='Downloading', max=456318.0, style=ProgressStyle(descripti…"
            ]
          },
          "metadata": {
            "tags": []
          }
        },
        {
          "output_type": "stream",
          "text": [
            "\n"
          ],
          "name": "stdout"
        },
        {
          "output_type": "display_data",
          "data": {
            "application/vnd.jupyter.widget-view+json": {
              "model_id": "6000a143886a4898991c52d511f29b18",
              "version_minor": 0,
              "version_major": 2
            },
            "text/plain": [
              "HBox(children=(FloatProgress(value=0.0, description='Downloading', max=501200538.0, style=ProgressStyle(descri…"
            ]
          },
          "metadata": {
            "tags": []
          }
        },
        {
          "output_type": "stream",
          "text": [
            "\n"
          ],
          "name": "stdout"
        },
        {
          "output_type": "execute_result",
          "data": {
            "text/plain": [
              "[Sentence: \"The grass is green .\"   [− Tokens: 5]]"
            ]
          },
          "metadata": {
            "tags": []
          },
          "execution_count": 45
        }
      ]
    },
    {
      "cell_type": "code",
      "metadata": {
        "colab": {
          "base_uri": "https://localhost:8080/"
        },
        "id": "kwUbm4aqiyng",
        "outputId": "32cb16f0-e893-48c8-cdc6-479f78e5db17"
      },
      "source": [
        "print(sentence.embedding)"
      ],
      "execution_count": null,
      "outputs": [
        {
          "output_type": "stream",
          "text": [
            "tensor([-4.7716e-02,  7.4434e-02, -5.7382e-02, -1.1084e-01,  9.3728e-02,\n",
            "        -7.0667e-02, -3.9124e-02, -1.5208e-02,  8.2914e-03, -6.2067e-02,\n",
            "         1.3514e-02,  5.5369e-02,  3.6431e-02, -4.2434e-02,  6.5581e-02,\n",
            "         6.7928e-02,  4.3899e-02,  1.2971e-02, -2.2806e-02,  2.6699e-02,\n",
            "        -1.2290e-01,  8.4062e-02, -1.1518e-02,  6.3545e-02,  8.2313e-02,\n",
            "         5.8250e-02,  6.7556e-02,  5.4044e-02, -1.5503e-02, -2.3941e-02,\n",
            "        -7.6196e-02, -4.3455e-03,  4.6730e-02, -3.2246e-02,  6.4714e-02,\n",
            "         7.0874e-02,  3.7649e-02, -4.6265e-02, -1.3970e-01,  1.8995e-02,\n",
            "        -5.0075e-02,  3.4664e-02,  9.9441e-02, -3.2781e-02,  1.2399e-01,\n",
            "         8.9412e-03,  8.6673e-03,  4.7400e-02, -2.7428e-02,  1.9678e-02,\n",
            "         4.4378e-03,  8.6579e-03, -4.7181e-02, -9.1996e-02, -7.2369e-02,\n",
            "         5.5046e-02,  8.5535e-02,  7.4627e-02,  1.1019e-01, -2.0454e-02,\n",
            "         2.6471e-03, -1.2888e-01, -8.9457e-02, -3.1360e-02,  3.5597e-02,\n",
            "        -1.1634e-02,  5.0005e-02,  6.4393e-04,  4.1233e-02,  5.7278e-02,\n",
            "         4.1191e-02, -3.0079e-02, -6.0412e-03, -6.4444e-02, -8.6735e-03,\n",
            "        -2.4242e-02,  3.7565e-02,  3.8190e-01, -1.2054e-01,  5.0361e-02,\n",
            "         2.7468e-02, -7.6348e-02,  2.4060e-01,  6.9216e-02,  3.2766e-02,\n",
            "        -3.7266e-02,  4.9936e-02,  7.6883e-02,  3.5574e-02,  5.4496e-02,\n",
            "         6.3086e-02,  5.0378e-02, -3.8185e-02,  2.3379e-03, -2.0230e-02,\n",
            "         1.8365e-02,  1.9765e-02, -5.6514e-02, -3.5402e-02, -5.4267e-02,\n",
            "        -4.5538e-02, -5.2984e-02,  4.4366e-02, -2.4712e-02, -3.0072e-02,\n",
            "         2.7126e-02,  9.5397e-02, -7.5055e-03,  6.6635e-02, -4.1899e-02,\n",
            "         2.8666e-02,  6.9862e-02,  1.9983e-02, -3.6133e-02, -4.2195e-02,\n",
            "        -4.7475e-02, -7.9280e-02,  3.3948e-02,  3.4932e-02, -2.3684e-02,\n",
            "         5.0100e-02,  4.5001e-02,  7.6680e-02,  4.4655e-02, -3.0998e-02,\n",
            "        -1.2247e-02, -2.2052e-02,  2.3844e-02, -6.5569e-02,  8.3096e-03,\n",
            "        -9.8757e-03, -1.4304e-01, -2.0726e-02,  7.0115e-02,  9.1623e-02,\n",
            "         1.2527e-02, -2.4216e-02,  1.1258e-02, -6.4613e-02, -4.7605e-02,\n",
            "         6.6838e-02,  2.7379e-02,  3.5375e-02, -5.2093e-02,  9.9362e-02,\n",
            "         2.4773e-03, -3.8913e-02, -6.5036e-02, -4.1618e-02,  3.3509e-03,\n",
            "         9.6018e-02, -4.3924e-02, -6.4411e-03,  1.3855e-02, -5.7980e-02,\n",
            "         3.4863e-01,  9.9384e-02, -1.6933e-02, -6.1171e-02,  6.6369e-02,\n",
            "         1.3384e-01,  2.4882e-02, -2.4981e-02,  4.6718e-02,  2.6653e-02,\n",
            "        -3.5564e-02, -6.8375e-02,  7.3833e-02,  1.1046e-01, -5.8631e-03,\n",
            "         3.1529e-02,  8.0549e-02, -8.9013e-03, -4.3965e-02, -6.9738e-02,\n",
            "        -2.5252e-02, -6.0055e-02, -1.4635e-02, -3.8259e-02,  1.0784e-02,\n",
            "         1.5583e-03,  2.2724e-02, -9.7038e-02,  3.6718e-02, -1.2060e-02,\n",
            "         1.1812e-02,  1.2650e-02,  4.2989e-02,  6.4398e-02,  1.6119e-02,\n",
            "         5.2636e-02, -2.7328e-02, -3.3549e-02,  1.5441e-02, -2.4484e-03,\n",
            "         5.7304e-02,  6.1233e-03, -1.5493e-02,  6.0475e-02, -2.7090e-02,\n",
            "        -2.7436e-02, -7.1437e-02,  9.7352e-02, -4.3472e-02,  1.2784e-01,\n",
            "         1.5556e-02, -8.0857e-04,  8.8706e-02, -4.9004e-02, -6.2645e-02,\n",
            "        -3.9787e-02,  1.0142e-01, -4.0879e-02,  3.5746e-02,  2.3749e-02,\n",
            "        -5.8633e-02,  1.2866e-02,  4.6583e-02, -9.5025e-03, -8.1800e-02,\n",
            "         3.3903e-02,  6.9549e-03, -5.0405e-02,  1.4513e-02, -7.3764e-02,\n",
            "         7.3410e-02,  7.7671e-02, -1.0398e-02,  2.0838e-02, -8.4498e-02,\n",
            "        -1.3807e-02,  1.1944e-02, -3.9349e-02,  6.7083e-02,  4.3529e-02,\n",
            "        -8.4377e-02,  5.0691e-03, -5.9785e-02, -6.4821e-02, -4.9494e-02,\n",
            "        -1.4095e-01,  5.4867e-02,  4.2754e-02,  1.9145e-02, -1.6817e-02,\n",
            "         2.3727e-02, -3.5911e-02,  7.5381e-02, -6.9881e-02,  4.1192e-02,\n",
            "        -1.5017e-02, -5.4802e-03,  1.4940e-02,  1.2566e-02,  3.1360e-02,\n",
            "         1.2081e-02, -3.4276e-02, -8.9607e-03,  5.1226e-02,  8.8657e-02,\n",
            "        -8.3739e-03, -2.2184e-02,  9.9529e-03,  4.0935e-03, -6.4700e-02,\n",
            "        -1.1798e-01, -1.3695e-02,  2.7970e-02,  5.0772e-02, -7.5878e-02,\n",
            "        -3.3177e-02, -3.3115e-02, -4.4545e-02,  7.8576e-03,  1.3039e-02,\n",
            "         2.5459e-02, -1.5026e-02, -2.5552e-02, -8.6642e-02, -4.9404e-02,\n",
            "         1.6773e-02, -7.4969e-02, -1.3620e-01,  1.4364e-02, -1.0549e-02,\n",
            "        -2.0752e-02, -6.5622e-02, -6.3982e-02,  8.9094e-02,  8.1343e-02,\n",
            "         5.9681e-02,  3.0329e-02, -6.2775e-02,  6.5032e-02, -5.5381e-02,\n",
            "         7.1410e-02,  2.7192e-02,  5.6998e-03,  6.7165e-03, -1.4404e-02,\n",
            "        -6.2783e-03, -7.6983e-02, -4.0079e-02,  9.9964e-03, -1.4167e-02,\n",
            "        -7.1310e-02,  1.2814e-02, -5.2801e-02,  3.8050e-03,  4.3963e-02,\n",
            "        -3.5242e-02, -5.3016e-03, -8.5119e-02,  7.2554e-02, -1.4165e-03,\n",
            "         1.8318e-02, -7.7213e-03, -8.8608e-03,  4.4143e-02,  1.6764e-02,\n",
            "        -3.4516e-02,  2.7610e-02,  1.7419e-02, -8.8451e-03, -4.2085e-02,\n",
            "         1.3099e-02,  9.9663e-02, -1.9495e-02,  2.0729e-02,  3.0360e-01,\n",
            "        -2.4617e-01,  2.9794e-02,  4.2947e-02,  2.0842e-02,  1.1400e-01,\n",
            "         1.2460e-03,  7.3429e-02, -2.0024e-02,  1.1118e-01,  3.7104e-02,\n",
            "         3.0775e-02,  1.4909e-02, -5.6868e-02,  5.4095e-02,  1.0126e-02,\n",
            "         4.6396e-02, -5.1905e-04, -2.1070e-02,  3.6908e-02, -5.1619e-02,\n",
            "        -4.8763e-02,  9.4489e-03, -7.3155e-03, -1.2074e-01, -4.0162e-02,\n",
            "         7.9484e-02,  4.0789e-02,  1.9235e-02, -4.7902e-03, -3.5156e-02,\n",
            "         6.9405e-02, -3.8722e-03,  2.3027e-02,  2.1644e-02,  1.2674e-01,\n",
            "        -8.2009e-02,  3.8780e-02,  6.0137e-03, -2.5449e-02,  2.8996e-02,\n",
            "         7.6264e-02,  5.7082e-02, -4.0906e-02, -6.0758e-03, -4.1166e-02,\n",
            "         1.1726e-02, -2.2936e-02,  2.5031e-02,  5.2803e-02,  5.9026e-02,\n",
            "        -2.7115e-02,  9.1771e-02,  2.6352e-02, -2.2595e-02,  1.0503e-01,\n",
            "        -1.7356e-04,  9.5270e-02, -3.1418e-02,  8.1666e-02,  6.8795e-02,\n",
            "         6.1114e-03, -3.7548e-02, -2.5047e-03, -6.6033e-02,  1.5072e-02,\n",
            "         4.1762e-02,  2.4307e-02, -8.7125e-02, -6.4660e-02, -6.2126e-02,\n",
            "        -2.4249e-02,  5.2751e-02, -1.0696e-01,  1.5233e-02,  1.3872e-02,\n",
            "         5.2254e-02, -3.6508e-02, -1.2562e-02,  3.3107e-02, -2.9981e-02,\n",
            "        -3.7045e-02,  6.6632e-02,  8.6223e-02, -2.9893e-02,  1.4587e-02,\n",
            "        -3.4470e-02, -1.1488e-02,  1.7752e-02, -1.8259e-02, -5.3136e-02,\n",
            "        -2.5899e-02,  8.3793e-02,  7.1993e-02,  1.1488e-02, -1.3149e-01,\n",
            "        -8.1652e-03,  3.2353e-02, -4.9359e-02, -2.6917e-02, -2.6044e-02,\n",
            "        -3.9518e-02,  1.3124e-03, -4.4941e-02,  2.3012e-02,  2.7804e-03,\n",
            "        -7.9056e-03,  4.1137e-02,  2.9944e-02, -2.4185e-02, -5.6887e-02,\n",
            "        -4.3508e-02, -5.3288e-02, -3.0909e-02,  1.0806e-01, -3.8639e-03,\n",
            "         2.4415e-02,  5.8586e-02, -2.0901e-02, -6.2250e-02,  7.8694e-03,\n",
            "        -2.5191e-02,  7.2269e-02,  3.4715e-02, -4.5281e-01,  4.3682e-02,\n",
            "         6.9298e-02,  3.1539e-02,  5.0824e-02, -7.8200e-03, -1.6448e-02,\n",
            "         2.9987e-02,  4.2449e-02,  3.2113e-02, -9.7039e-03, -5.4713e-03,\n",
            "        -1.7863e-02,  2.5288e-02,  2.1071e-02,  6.8032e-03,  3.3392e-02,\n",
            "         8.8338e-03, -2.5751e-02, -4.3621e-02, -3.4245e-02,  1.5891e-02,\n",
            "        -5.3211e-02, -6.0743e-02, -3.3852e-02, -7.7223e-06, -5.2547e-02,\n",
            "        -7.4263e-02,  7.5105e-02,  1.0559e-01,  1.5368e-02, -3.2150e-02,\n",
            "        -1.1537e-02, -4.3233e-02,  6.2812e-02,  3.1536e-02,  2.3060e-02,\n",
            "        -1.0726e-01, -1.6852e-02,  3.1141e-02,  8.9806e-02,  2.1739e-01,\n",
            "         7.8143e-02,  9.0137e-02, -3.2316e-02,  2.2352e-02, -5.7707e-02,\n",
            "         1.1570e-02, -7.1661e-03,  5.4486e-03, -4.0952e-02, -5.0255e-03,\n",
            "         6.0651e-02, -7.0576e-02, -4.0095e-02,  9.0273e-03,  6.0430e-02,\n",
            "         7.0786e-03, -5.3039e-02,  1.1103e-01,  6.1822e-03, -7.9468e-03,\n",
            "         3.7951e-02, -4.2618e-02,  6.0918e-02, -2.9446e-02, -1.8634e-02,\n",
            "        -2.9228e-02, -3.5104e-03, -2.1974e-02,  2.1610e-02, -3.6898e-02,\n",
            "         5.8238e-02,  7.3604e-03, -5.0384e-02,  1.3230e-01, -1.5536e-02,\n",
            "        -3.9550e-02, -2.9343e-02,  8.6665e-02, -3.7440e-03, -6.5233e-02,\n",
            "         6.1919e-02,  5.1018e-02,  6.3673e-04, -1.9991e-03, -3.1130e-02,\n",
            "         1.2077e-02,  7.1474e-02,  7.9931e-02, -3.2483e-02,  8.2397e-02,\n",
            "         1.3111e-02, -1.9831e-02,  6.1715e-03,  3.1010e-02,  8.0211e-02,\n",
            "        -7.7196e-02, -5.1419e-01, -1.0703e-02,  6.0470e-02, -1.5922e-02,\n",
            "         2.4938e-02,  1.5810e-02,  2.3140e-02, -4.1938e-02,  6.4992e-02,\n",
            "        -2.3707e-02, -4.3077e-03,  4.1205e-02,  9.0542e-02, -8.4824e-02,\n",
            "         2.1748e-02,  6.1053e-02,  9.5360e-04, -1.7026e-02, -2.9426e-02,\n",
            "        -6.7940e-02, -1.5569e-02, -2.2161e-02,  1.5888e-01,  2.1899e-02,\n",
            "        -1.5650e-02,  5.4039e-02, -1.0797e-02,  7.7859e-02,  3.1244e-02,\n",
            "         8.0774e-02,  6.6257e-02,  5.3598e-02, -2.4220e-02,  1.9332e-02,\n",
            "        -2.5355e-02,  8.5455e-02,  5.5450e-02,  1.1245e+01, -1.0656e-02,\n",
            "         6.8428e-02, -3.1220e-02,  9.3536e-04, -6.2199e-02,  4.9046e-02,\n",
            "        -3.5778e-02,  3.8651e-02,  5.7794e-02, -4.0718e-03,  8.2245e-03,\n",
            "        -5.7057e-02, -1.6045e-02, -3.3955e-02,  1.0276e-02, -4.6381e-02,\n",
            "        -6.3685e-02,  7.2321e-02,  6.5433e-03,  1.1766e-02,  7.7165e-02,\n",
            "         2.0591e-02,  1.6417e-02, -4.9785e-02,  1.3100e-01,  6.5552e-03,\n",
            "        -2.9403e-02, -2.3944e-02,  7.6052e-02,  2.3159e-03,  1.1610e-01,\n",
            "        -1.4084e-03,  3.9232e-02,  1.0595e-01, -7.7258e-03, -2.0372e-02,\n",
            "         8.4214e-02, -2.9079e-02,  3.4515e-02,  8.1039e-02, -3.7538e-02,\n",
            "         4.7585e-02, -5.8200e-02,  2.3041e-02,  7.5770e-02,  2.6190e-02,\n",
            "         9.5768e-02,  5.2060e-03, -2.3103e-02,  1.0436e-01, -6.0490e-02,\n",
            "         6.1931e-02,  1.0367e-02,  3.0211e-02, -6.9982e-02,  5.5537e-02,\n",
            "        -1.5813e-02,  1.3844e-02,  4.9648e-02, -3.3043e-02,  7.2267e-03,\n",
            "         2.3933e-02,  3.3076e-02, -3.5769e-02,  1.4912e-01,  7.0155e-02,\n",
            "         1.1172e-01, -5.3734e-02,  5.5699e-03,  5.4030e-02, -9.8247e-02,\n",
            "         9.6603e-03, -6.0514e-02,  2.4242e-03, -7.8528e-02,  9.8271e-02,\n",
            "        -5.8754e-02,  2.7888e-02, -9.0994e-02,  3.5268e-03,  5.6588e-02,\n",
            "         3.7438e-02, -4.3814e-02,  1.2167e-02,  2.1952e-02,  5.2465e-02,\n",
            "         4.2012e-02,  1.2183e-02, -3.0810e-02, -6.3099e-02, -2.4640e-02,\n",
            "        -1.9739e-02, -4.2559e-02,  2.1303e-02, -1.6479e-02,  6.8244e-02,\n",
            "        -5.3488e-02,  8.1305e-02,  4.1145e-02, -9.9328e-02,  2.2479e-03,\n",
            "        -3.2766e-02,  7.5883e-02, -2.4995e-02,  4.7232e-02, -2.3202e-02,\n",
            "        -1.6276e-02,  2.4508e-02,  7.8521e-02, -1.5489e-02,  2.7634e-02,\n",
            "         5.4731e-03, -2.0308e-02,  3.6587e-02,  1.1772e-02, -6.4201e-02,\n",
            "         8.3302e-03, -2.4880e-02,  4.7584e-02, -8.4301e-02,  1.5028e-02,\n",
            "        -1.0675e-01,  4.2551e-02, -1.7458e-02, -4.3268e-03, -1.8681e-02,\n",
            "         1.7248e-02, -4.8901e-02,  4.5153e-02,  1.8995e-02,  5.6467e-02,\n",
            "         1.2770e-01,  1.2352e-02,  7.0351e-02,  1.6773e-02, -7.2836e-02,\n",
            "         3.8571e-02,  7.2696e-02,  9.3570e-02, -2.2450e-02, -2.9770e-03,\n",
            "        -3.6672e-02, -1.4751e-01, -1.9453e-02,  5.7375e-02,  6.3458e-02,\n",
            "         7.9674e-03,  4.8781e-02,  1.7858e-02, -3.4665e-02,  3.4634e-02,\n",
            "         1.0059e-02, -6.2989e-03, -4.2266e-02, -6.7538e-03, -2.1984e-02,\n",
            "         1.0843e-01,  2.3806e-02, -8.1351e-02,  6.7070e-02, -8.5427e-02,\n",
            "         1.1639e-03, -2.0563e-02, -1.2390e-01, -2.3600e-02, -3.5812e-02,\n",
            "         2.3616e-02,  1.2642e-01, -1.1891e-03, -3.9909e-02,  2.6469e-02,\n",
            "        -1.0960e-01, -6.4960e-02, -1.8377e-02,  6.1839e-02,  1.1106e-01,\n",
            "        -1.5732e-01, -4.5062e-02, -2.7072e-02], grad_fn=<CatBackward>)\n"
          ],
          "name": "stdout"
        }
      ]
    },
    {
      "cell_type": "code",
      "metadata": {
        "id": "z_-uJ59CjARh"
      },
      "source": [
        ""
      ],
      "execution_count": null,
      "outputs": []
    }
  ]
}